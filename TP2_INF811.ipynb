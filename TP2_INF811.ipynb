{
 "cells": [
  {
   "cell_type": "markdown",
   "metadata": {},
   "source": [
    "# Modèles linéaires\n",
    "\n",
    "\n",
    "## TP2 Automne 2019 - Détection de discours d'incitation à la haine\n",
    "\n",
    "##### Membres de l'équipe:\n",
    "\n",
    "    - MAINKA Adrien (2046374)\n",
    "    - BAKKAOUI Mehdi (2038803)\n",
    "    - METAIS Marianne (2038757)"
   ]
  },
  {
   "cell_type": "code",
   "execution_count": 13,
   "metadata": {},
   "outputs": [],
   "source": [
    "import pandas as pd\n",
    "import re\n",
    "import string\n",
    "from nltk.tokenize import word_tokenize\n",
    "import words_repeated_char\n",
    "import sys\n",
    "import pickle\n",
    "import numpy as np"
   ]
  },
  {
   "cell_type": "markdown",
   "metadata": {},
   "source": [
    "## 1. importation des données (après Preprocessing)"
   ]
  },
  {
   "cell_type": "markdown",
   "metadata": {},
   "source": [
    "#### Base de données avec 4 classes (0:Hateful, 1:Abusive, 2:Normal et 3:Spam)"
   ]
  },
  {
   "cell_type": "code",
   "execution_count": 2,
   "metadata": {},
   "outputs": [],
   "source": [
    "file = open(\"data/preprocess.pkl\",'rb')\n",
    "preprocessed = pickle.load(file) #C'est une \"balanced database\"  i.e qu'il y autant d'exemples pour chacune des classes.\n",
    "file.close()"
   ]
  },
  {
   "cell_type": "code",
   "execution_count": 8,
   "metadata": {},
   "outputs": [
    {
     "data": {
      "text/html": [
       "<div>\n",
       "<style scoped>\n",
       "    .dataframe tbody tr th:only-of-type {\n",
       "        vertical-align: middle;\n",
       "    }\n",
       "\n",
       "    .dataframe tbody tr th {\n",
       "        vertical-align: top;\n",
       "    }\n",
       "\n",
       "    .dataframe thead th {\n",
       "        text-align: right;\n",
       "    }\n",
       "</style>\n",
       "<table border=\"1\" class=\"dataframe\">\n",
       "  <thead>\n",
       "    <tr style=\"text-align: right;\">\n",
       "      <th></th>\n",
       "      <th>tweet</th>\n",
       "      <th>label</th>\n",
       "    </tr>\n",
       "  </thead>\n",
       "  <tbody>\n",
       "    <tr>\n",
       "      <th>0</th>\n",
       "      <td>[i, fuckin, hate, when, nigga, stare, at, me, ...</td>\n",
       "      <td>1</td>\n",
       "    </tr>\n",
       "    <tr>\n",
       "      <th>1</th>\n",
       "      <td>[everyone, jump, to, silly, conclusion, a, soo...</td>\n",
       "      <td>1</td>\n",
       "    </tr>\n",
       "    <tr>\n",
       "      <th>2</th>\n",
       "      <td>[HASHTAG, i, 'm, emo, ., i, need, a, fucking, ...</td>\n",
       "      <td>1</td>\n",
       "    </tr>\n",
       "    <tr>\n",
       "      <th>3</th>\n",
       "      <td>[banana, bread, recipe, :, 1., get, some, brea...</td>\n",
       "      <td>1</td>\n",
       "    </tr>\n",
       "    <tr>\n",
       "      <th>4</th>\n",
       "      <td>[godamn, this, bitch, so, bad, i, want, 2, dri...</td>\n",
       "      <td>1</td>\n",
       "    </tr>\n",
       "  </tbody>\n",
       "</table>\n",
       "</div>"
      ],
      "text/plain": [
       "                                               tweet  label\n",
       "0  [i, fuckin, hate, when, nigga, stare, at, me, ...      1\n",
       "1  [everyone, jump, to, silly, conclusion, a, soo...      1\n",
       "2  [HASHTAG, i, 'm, emo, ., i, need, a, fucking, ...      1\n",
       "3  [banana, bread, recipe, :, 1., get, some, brea...      1\n",
       "4  [godamn, this, bitch, so, bad, i, want, 2, dri...      1"
      ]
     },
     "execution_count": 8,
     "metadata": {},
     "output_type": "execute_result"
    }
   ],
   "source": [
    "preprocessed.head()"
   ]
  },
  {
   "cell_type": "markdown",
   "metadata": {},
   "source": [
    "## 2. Jeu de données"
   ]
  },
  {
   "cell_type": "code",
   "execution_count": 6,
   "metadata": {},
   "outputs": [
    {
     "name": "stdout",
     "output_type": "stream",
     "text": [
      "Length of training set :  72355\n",
      "Length of test set :  12769\n"
     ]
    }
   ],
   "source": [
    "from sklearn.model_selection import train_test_split\n",
    "\n",
    "X = preprocessed['tweet']\n",
    "y = preprocessed['label']\n",
    "\n",
    "train_X, test_X, train_Y, test_Y = train_test_split(X, y, test_size=0.15, random_state=12)\n",
    "\n",
    "print(\"Length of training set : \", len(train_X))\n",
    "print(\"Length of test set : \", len(test_X))"
   ]
  },
  {
   "cell_type": "markdown",
   "metadata": {},
   "source": [
    "## 3. Classification"
   ]
  },
  {
   "cell_type": "code",
   "execution_count": 33,
   "metadata": {},
   "outputs": [],
   "source": [
    "import numpy as np\n",
    "from sklearn.metrics import f1_score\n",
    "from sklearn.metrics import precision_score\n",
    "from sklearn.metrics import recall_score\n",
    "from sklearn.metrics import classification_report\n",
    "\n",
    "\n",
    "def train_evaluate(classifier, training_X, training_Y, validation_X, validation_Y, bowObj, target_names):\n",
    "    \"\"\"\n",
    "    classifier: model used (LogisticRegression...)\n",
    "    training_X: tweets from the training dataset\n",
    "    training_Y: tweet labels from the training dataset\n",
    "    validation_X: tweets from the validation dataset\n",
    "    validation_Y: tweet labels from the validation dataset\n",
    "    bowObj: Bag-of-word object\n",
    "    target_names: names of classes\n",
    "    \n",
    "    :return: the classifier and its accuracy in the training and validation dataset.\n",
    "    \"\"\"\n",
    "    \n",
    "    training_rep = bowObj.fit_transform(training_X)\n",
    "\n",
    "    classifier.fit(training_rep, training_Y)\n",
    "\n",
    "    validation_Y_pred = classifier.predict(bowObj.transform(validation_X))\n",
    "    validationF1score = f1_score(validation_Y, validation_Y_pred,average=None)\n",
    "    validationPrecision = precision_score(validation_Y, validation_Y_pred,average=None)\n",
    "    validationRecall = recall_score(validation_Y, validation_Y_pred,average=None)\n",
    "    \n",
    "    properties = classification_report(validation_Y, validation_Y_pred, target_names=target_names)\n",
    "\n",
    "    return classifier, validationPrecision[0], validationRecall[0], validationF1score[0], properties"
   ]
  },
  {
   "cell_type": "code",
   "execution_count": 45,
   "metadata": {},
   "outputs": [],
   "source": [
    "import matplotlib.pyplot as plt\n",
    "from sklearn.feature_extraction.text import CountVectorizer\n",
    "from sklearn.feature_extraction.text import TfidfVectorizer\n",
    "\n",
    "def function(token):\n",
    "    return token\n",
    "\n",
    "def model_comparison(classifier, nom_classifier):\n",
    "    \"\"\"\n",
    "    classifier: model used (LogisticRegression...)\n",
    "    nom_classifier: model name\n",
    "    \n",
    "    :return: Comparison of the classifier with CountBoW, TF-IDF, unigram and bigram.\n",
    "    \"\"\"\n",
    "    \n",
    "    Precision = []\n",
    "    Recall = []\n",
    "    F1_score = []\n",
    "    target_names = ['hateful', 'abusive', 'spam','normal']\n",
    "\n",
    "    # 1.classifier + CountBoW + unigram\n",
    "    cv = CountVectorizer(\n",
    "        analyzer='word',\n",
    "        tokenizer=function,\n",
    "        preprocessor=function,\n",
    "        token_pattern=None,\n",
    "        ngram_range=(1,1))\n",
    "    model=train_evaluate(classifier, train_X, train_Y, test_X, test_Y, cv,target_names)\n",
    "    Precision.append(model[1])\n",
    "    Recall.append(model[2])\n",
    "    F1_score.append(model[3])\n",
    "    print('\\033[1m\\033[91m'+nom_classifier+' with CountBoW and unigram :'+'\\033[0m')\n",
    "    print(model[4]+'\\n')\n",
    "\n",
    "    # 2.classifier + CountBoW + unigram + bigram\n",
    "    cv = CountVectorizer(\n",
    "        analyzer='word',\n",
    "        tokenizer=function,\n",
    "        preprocessor=function,\n",
    "        token_pattern=None,\n",
    "        ngram_range=(1,2))\n",
    "    model=train_evaluate(classifier,train_X, train_Y, test_X, test_Y, cv,target_names)\n",
    "    Precision.append(model[1])\n",
    "    Recall.append(model[2])\n",
    "    F1_score.append(model[3])\n",
    "    print('\\033[1m\\033[91m'+nom_classifier+' with CountBoW, unigram and bigram :'+'\\033[0m')\n",
    "    print(model[4]+'\\n')\n",
    "\n",
    "    # 3.classifier + TF-IDF + unigram\n",
    "    tv = TfidfVectorizer(\n",
    "        analyzer='word',\n",
    "        tokenizer=function,\n",
    "        preprocessor=function,\n",
    "        token_pattern=None,\n",
    "        ngram_range=(1,1))\n",
    "    model=train_evaluate(classifier,train_X, train_Y, test_X, test_Y, tv,target_names)\n",
    "    Precision.append(model[1])\n",
    "    Recall.append(model[2])\n",
    "    F1_score.append(model[3])\n",
    "    print('\\033[1m\\033[91m'+nom_classifier+' with TF-IDF and unigram :'+'\\033[0m')\n",
    "    print(model[4]+'\\n')\n",
    "\n",
    "    # 4.classifier + TF-IDF + unigram + bigram\n",
    "    tv = TfidfVectorizer(\n",
    "        analyzer='word',\n",
    "        tokenizer=function,\n",
    "        preprocessor=function,\n",
    "        token_pattern=None,\n",
    "        ngram_range=(1,2))\n",
    "    model=train_evaluate(classifier,train_X, train_Y, test_X, test_Y, tv,target_names)\n",
    "    Precision.append(model[1])\n",
    "    Recall.append(model[2])\n",
    "    F1_score.append(model[3])\n",
    "    print('\\033[1m\\033[91m'+nom_classifier+' with TF-IDF, unigram and bigram :'+'\\033[0m')\n",
    "    print(model[4])\n",
    "    \n",
    "    # Graphe de comparaison des différents modèles\n",
    "    \n",
    "    r=2*np.arange(len(Precision))\n",
    "    \n",
    "    Type = [\"Precision\", \"Recall\", \"F1-Score\"]\n",
    "    models_names = ['CountBoW \\nunigram', 'CountBoW \\nunigram \\nbigram', \n",
    "     'TF-IDF \\nunigram', 'TF-IDF \\nunigram \\nbigram']\n",
    "    bar_width = 0.4\n",
    "\n",
    "    plt.bar(r-bar_width, Precision,bar_width)\n",
    "    plt.bar(r, Recall,bar_width)\n",
    "    plt.bar(r+bar_width, F1_score,bar_width)\n",
    "    plt.xticks(r, models_names, rotation=0)\n",
    "\n",
    "    plt.xlabel('Classifier')\n",
    "    plt.ylabel('Metrics')\n",
    "\n",
    "    plt.title(nom_classifier)\n",
    "\n",
    "    plt.legend(Type)\n",
    "\n",
    "    for i in range(len(Precision)):\n",
    "        plt.text(x = r[i]-bar_width-bar_width/2 , y = Precision[i]+0.01, s = '%.2f' % Precision[i])\n",
    "        plt.text(x = r[i]-bar_width/2 , y = Recall[i]+0.01, s = '%.2f' % Recall[i])\n",
    "        plt.text(x = r[i]+bar_width-bar_width/2 , y = F1_score[i]+0.01, s = '%.2f' % F1_score[i])\n",
    "\n",
    "    plt.ylim(.2, 1)\n",
    "    plt.show()"
   ]
  },
  {
   "cell_type": "markdown",
   "metadata": {},
   "source": [
    "### 4.1 Modèles linéaires"
   ]
  },
  {
   "cell_type": "markdown",
   "metadata": {},
   "source": [
    "#### 4.1.1 Régression logistique"
   ]
  },
  {
   "cell_type": "code",
   "execution_count": 46,
   "metadata": {},
   "outputs": [
    {
     "name": "stdout",
     "output_type": "stream",
     "text": [
      "\u001b[1m\u001b[91mLogisticRegression with CountBoW and unigram :\u001b[0m\n",
      "              precision    recall  f1-score   support\n",
      "\n",
      "     hateful       0.37      0.35      0.36       567\n",
      "     abusive       0.92      0.89      0.90      4488\n",
      "        spam       0.85      0.85      0.85      6461\n",
      "      normal       0.48      0.53      0.50      1253\n",
      "\n",
      "   micro avg       0.81      0.81      0.81     12769\n",
      "   macro avg       0.65      0.66      0.65     12769\n",
      "weighted avg       0.81      0.81      0.81     12769\n",
      "\n",
      "\n",
      "\u001b[1m\u001b[91mLogisticRegression with CountBoW, unigram and bigram :\u001b[0m\n",
      "              precision    recall  f1-score   support\n",
      "\n",
      "     hateful       0.44      0.27      0.34       567\n",
      "     abusive       0.91      0.89      0.90      4488\n",
      "        spam       0.84      0.89      0.86      6461\n",
      "      normal       0.52      0.48      0.50      1253\n",
      "\n",
      "   micro avg       0.82      0.82      0.82     12769\n",
      "   macro avg       0.68      0.63      0.65     12769\n",
      "weighted avg       0.81      0.82      0.82     12769\n",
      "\n",
      "\n",
      "\u001b[1m\u001b[91mLogisticRegression with TF-IDF and unigram :\u001b[0m\n",
      "              precision    recall  f1-score   support\n",
      "\n",
      "     hateful       0.38      0.37      0.37       567\n",
      "     abusive       0.92      0.87      0.90      4488\n",
      "        spam       0.85      0.85      0.85      6461\n",
      "      normal       0.49      0.58      0.53      1253\n",
      "\n",
      "   micro avg       0.81      0.81      0.81     12769\n",
      "   macro avg       0.66      0.67      0.66     12769\n",
      "weighted avg       0.82      0.81      0.81     12769\n",
      "\n",
      "\n",
      "\u001b[1m\u001b[91mLogisticRegression with TF-IDF, unigram and bigram :\u001b[0m\n",
      "              precision    recall  f1-score   support\n",
      "\n",
      "     hateful       0.44      0.31      0.37       567\n",
      "     abusive       0.91      0.87      0.89      4488\n",
      "        spam       0.84      0.84      0.84      6461\n",
      "      normal       0.48      0.61      0.54      1253\n",
      "\n",
      "   micro avg       0.81      0.81      0.81     12769\n",
      "   macro avg       0.67      0.66      0.66     12769\n",
      "weighted avg       0.81      0.81      0.81     12769\n",
      "\n"
     ]
    },
    {
     "data": {
      "image/png": "[encoded data removed]",
      "text/plain": [
       "<Figure size 432x288 with 1 Axes>"
      ]
     },
     "metadata": {
      "needs_background": "light"
     },
     "output_type": "display_data"
    }
   ],
   "source": [
    "from sklearn.linear_model import LogisticRegression\n",
    "\n",
    "model_comparison(LogisticRegression(class_weight='balanced'),'LogisticRegression')"
   ]
  },
  {
   "cell_type": "markdown",
   "metadata": {},
   "source": [
    "#### 4.1.2 Stochastic Gradient Descent"
   ]
  },
  {
   "cell_type": "code",
   "execution_count": 47,
   "metadata": {},
   "outputs": [
    {
     "name": "stdout",
     "output_type": "stream",
     "text": [
      "\u001b[1m\u001b[91mSGDClassifier with CountBoW and unigram :\u001b[0m\n",
      "              precision    recall  f1-score   support\n",
      "\n",
      "     hateful       0.37      0.35      0.36       567\n",
      "     abusive       0.91      0.90      0.90      4488\n",
      "        spam       0.85      0.85      0.85      6461\n",
      "      normal       0.48      0.51      0.50      1253\n",
      "\n",
      "   micro avg       0.81      0.81      0.81     12769\n",
      "   macro avg       0.65      0.65      0.65     12769\n",
      "weighted avg       0.81      0.81      0.81     12769\n",
      "\n",
      "\n",
      "\u001b[1m\u001b[91mSGDClassifier with CountBoW, unigram and bigram :\u001b[0m\n",
      "              precision    recall  f1-score   support\n",
      "\n",
      "     hateful       0.37      0.35      0.36       567\n",
      "     abusive       0.92      0.88      0.90      4488\n",
      "        spam       0.83      0.89      0.86      6461\n",
      "      normal       0.53      0.43      0.48      1253\n",
      "\n",
      "   micro avg       0.82      0.82      0.82     12769\n",
      "   macro avg       0.66      0.64      0.65     12769\n",
      "weighted avg       0.81      0.82      0.81     12769\n",
      "\n",
      "\n",
      "\u001b[1m\u001b[91mSGDClassifier with TF-IDF and unigram :\u001b[0m\n",
      "              precision    recall  f1-score   support\n",
      "\n",
      "     hateful       0.41      0.34      0.37       567\n",
      "     abusive       0.92      0.87      0.90      4488\n",
      "        spam       0.84      0.87      0.85      6461\n",
      "      normal       0.51      0.54      0.52      1253\n",
      "\n",
      "   micro avg       0.82      0.82      0.82     12769\n",
      "   macro avg       0.67      0.66      0.66     12769\n",
      "weighted avg       0.82      0.82      0.82     12769\n",
      "\n",
      "\n",
      "\u001b[1m\u001b[91mSGDClassifier with TF-IDF, unigram and bigram :\u001b[0m\n",
      "              precision    recall  f1-score   support\n",
      "\n",
      "     hateful       0.42      0.31      0.36       567\n",
      "     abusive       0.92      0.85      0.88      4488\n",
      "        spam       0.83      0.83      0.83      6461\n",
      "      normal       0.46      0.62      0.53      1253\n",
      "\n",
      "   micro avg       0.80      0.80      0.80     12769\n",
      "   macro avg       0.66      0.66      0.65     12769\n",
      "weighted avg       0.81      0.80      0.80     12769\n",
      "\n"
     ]
    },
    {
     "data": {
      "image/png": "[encoded data removed]",
      "text/plain": [
       "<Figure size 432x288 with 1 Axes>"
      ]
     },
     "metadata": {
      "needs_background": "light"
     },
     "output_type": "display_data"
    }
   ],
   "source": [
    "from sklearn.linear_model import SGDClassifier\n",
    "\n",
    "model_comparison(SGDClassifier(class_weight='balanced'),'SGDClassifier')"
   ]
  },
  {
   "cell_type": "markdown",
   "metadata": {},
   "source": [
    "#### 4.1.3 Perceptron"
   ]
  },
  {
   "cell_type": "code",
   "execution_count": 48,
   "metadata": {},
   "outputs": [
    {
     "name": "stdout",
     "output_type": "stream",
     "text": [
      "\u001b[1m\u001b[91mPerceptron with CountBoW and unigram :\u001b[0m\n",
      "              precision    recall  f1-score   support\n",
      "\n",
      "     hateful       0.29      0.28      0.28       567\n",
      "     abusive       0.72      0.91      0.80      4488\n",
      "        spam       0.87      0.64      0.74      6461\n",
      "      normal       0.39      0.56      0.46      1253\n",
      "\n",
      "   micro avg       0.71      0.71      0.71     12769\n",
      "   macro avg       0.57      0.60      0.57     12769\n",
      "weighted avg       0.74      0.71      0.71     12769\n",
      "\n",
      "\n",
      "\u001b[1m\u001b[91mPerceptron with CountBoW, unigram and bigram :\u001b[0m\n",
      "              precision    recall  f1-score   support\n",
      "\n",
      "     hateful       0.31      0.35      0.33       567\n",
      "     abusive       0.91      0.84      0.87      4488\n",
      "        spam       0.81      0.88      0.84      6461\n",
      "      normal       0.49      0.39      0.43      1253\n",
      "\n",
      "   micro avg       0.79      0.79      0.79     12769\n",
      "   macro avg       0.63      0.61      0.62     12769\n",
      "weighted avg       0.79      0.79      0.79     12769\n",
      "\n",
      "\n",
      "\u001b[1m\u001b[91mPerceptron with TF-IDF and unigram :\u001b[0m\n",
      "              precision    recall  f1-score   support\n",
      "\n",
      "     hateful       0.24      0.36      0.29       567\n",
      "     abusive       0.85      0.86      0.85      4488\n",
      "        spam       0.83      0.76      0.79      6461\n",
      "      normal       0.40      0.47      0.43      1253\n",
      "\n",
      "   micro avg       0.75      0.75      0.75     12769\n",
      "   macro avg       0.58      0.61      0.59     12769\n",
      "weighted avg       0.77      0.75      0.76     12769\n",
      "\n",
      "\n",
      "\u001b[1m\u001b[91mPerceptron with TF-IDF, unigram and bigram :\u001b[0m\n",
      "              precision    recall  f1-score   support\n",
      "\n",
      "     hateful       0.32      0.35      0.33       567\n",
      "     abusive       0.90      0.87      0.88      4488\n",
      "        spam       0.84      0.80      0.82      6461\n",
      "      normal       0.43      0.58      0.49      1253\n",
      "\n",
      "   micro avg       0.78      0.78      0.78     12769\n",
      "   macro avg       0.62      0.65      0.63     12769\n",
      "weighted avg       0.80      0.78      0.79     12769\n",
      "\n"
     ]
    },
    {
     "data": {
      "image/png": "[encoded data removed]",
      "text/plain": [
       "<Figure size 432x288 with 1 Axes>"
      ]
     },
     "metadata": {
      "needs_background": "light"
     },
     "output_type": "display_data"
    }
   ],
   "source": [
    "from sklearn.linear_model import Perceptron\n",
    "\n",
    "model_comparison(Perceptron(class_weight='balanced'),'Perceptron')"
   ]
  },
  {
   "cell_type": "markdown",
   "metadata": {},
   "source": [
    "#### 4.1.4 PassiveAggressiveClassifier"
   ]
  },
  {
   "cell_type": "code",
   "execution_count": 49,
   "metadata": {},
   "outputs": [
    {
     "name": "stdout",
     "output_type": "stream",
     "text": [
      "\u001b[1m\u001b[91mPassiveAggressiveClassifier with CountBoW and unigram :\u001b[0m\n",
      "              precision    recall  f1-score   support\n",
      "\n",
      "     hateful       0.15      0.53      0.24       567\n",
      "     abusive       0.92      0.77      0.84      4488\n",
      "        spam       0.83      0.74      0.78      6461\n",
      "      normal       0.43      0.45      0.44      1253\n",
      "\n",
      "   micro avg       0.71      0.71      0.71     12769\n",
      "   macro avg       0.58      0.62      0.57     12769\n",
      "weighted avg       0.79      0.71      0.74     12769\n",
      "\n",
      "\n",
      "\u001b[1m\u001b[91mPassiveAggressiveClassifier with CountBoW, unigram and bigram :\u001b[0m\n",
      "              precision    recall  f1-score   support\n",
      "\n",
      "     hateful       0.26      0.31      0.29       567\n",
      "     abusive       0.90      0.88      0.89      4488\n",
      "        spam       0.83      0.85      0.84      6461\n",
      "      normal       0.49      0.46      0.47      1253\n",
      "\n",
      "   micro avg       0.80      0.80      0.80     12769\n",
      "   macro avg       0.62      0.62      0.62     12769\n",
      "weighted avg       0.80      0.80      0.80     12769\n",
      "\n",
      "\n",
      "\u001b[1m\u001b[91mPassiveAggressiveClassifier with TF-IDF and unigram :\u001b[0m\n",
      "              precision    recall  f1-score   support\n",
      "\n",
      "     hateful       0.29      0.36      0.32       567\n",
      "     abusive       0.91      0.87      0.89      4488\n",
      "        spam       0.85      0.80      0.82      6461\n",
      "      normal       0.41      0.55      0.47      1253\n",
      "\n",
      "   micro avg       0.78      0.78      0.78     12769\n",
      "   macro avg       0.61      0.64      0.63     12769\n",
      "weighted avg       0.80      0.78      0.79     12769\n",
      "\n",
      "\n",
      "\u001b[1m\u001b[91mPassiveAggressiveClassifier with TF-IDF, unigram and bigram :\u001b[0m\n",
      "              precision    recall  f1-score   support\n",
      "\n",
      "     hateful       0.39      0.25      0.30       567\n",
      "     abusive       0.90      0.90      0.90      4488\n",
      "        spam       0.84      0.85      0.84      6461\n",
      "      normal       0.46      0.50      0.48      1253\n",
      "\n",
      "   micro avg       0.81      0.81      0.81     12769\n",
      "   macro avg       0.65      0.62      0.63     12769\n",
      "weighted avg       0.80      0.81      0.80     12769\n",
      "\n"
     ]
    },
    {
     "data": {
      "image/png": "[encoded data removed]",
      "text/plain": [
       "<Figure size 432x288 with 1 Axes>"
      ]
     },
     "metadata": {
      "needs_background": "light"
     },
     "output_type": "display_data"
    }
   ],
   "source": [
    "from sklearn.linear_model import PassiveAggressiveClassifier\n",
    "\n",
    "model_comparison(PassiveAggressiveClassifier(class_weight='balanced'),'PassiveAggressiveClassifier')"
   ]
  },
  {
   "cell_type": "markdown",
   "metadata": {},
   "source": [
    "### 4.2 Support Vector Machines "
   ]
  },
  {
   "cell_type": "markdown",
   "metadata": {},
   "source": [
    "#### 4.2.1  Linear Support Vector Classification"
   ]
  },
  {
   "cell_type": "code",
   "execution_count": 50,
   "metadata": {},
   "outputs": [
    {
     "name": "stderr",
     "output_type": "stream",
     "text": [
      "C:\\Users\\mehdi\\Anaconda3\\lib\\site-packages\\sklearn\\svm\\base.py:922: ConvergenceWarning: Liblinear failed to converge, increase the number of iterations.\n",
      "  \"the number of iterations.\", ConvergenceWarning)\n"
     ]
    },
    {
     "name": "stdout",
     "output_type": "stream",
     "text": [
      "\u001b[1m\u001b[91mLinear Support Vector Classification with CountBoW and unigram :\u001b[0m\n",
      "              precision    recall  f1-score   support\n",
      "\n",
      "     hateful       0.29      0.32      0.30       567\n",
      "     abusive       0.90      0.88      0.89      4488\n",
      "        spam       0.84      0.83      0.83      6461\n",
      "      normal       0.44      0.47      0.45      1253\n",
      "\n",
      "   micro avg       0.79      0.79      0.79     12769\n",
      "   macro avg       0.62      0.62      0.62     12769\n",
      "weighted avg       0.79      0.79      0.79     12769\n",
      "\n",
      "\n",
      "\u001b[1m\u001b[91mLinear Support Vector Classification with CountBoW, unigram and bigram :\u001b[0m\n",
      "              precision    recall  f1-score   support\n",
      "\n",
      "     hateful       0.40      0.23      0.29       567\n",
      "     abusive       0.90      0.89      0.90      4488\n",
      "        spam       0.83      0.89      0.86      6461\n",
      "      normal       0.49      0.43      0.46      1253\n",
      "\n",
      "   micro avg       0.81      0.81      0.81     12769\n",
      "   macro avg       0.66      0.61      0.63     12769\n",
      "weighted avg       0.80      0.81      0.81     12769\n",
      "\n",
      "\n",
      "\u001b[1m\u001b[91mLinear Support Vector Classification with TF-IDF and unigram :\u001b[0m\n",
      "              precision    recall  f1-score   support\n",
      "\n",
      "     hateful       0.34      0.33      0.34       567\n",
      "     abusive       0.92      0.88      0.90      4488\n",
      "        spam       0.84      0.85      0.85      6461\n",
      "      normal       0.47      0.52      0.49      1253\n",
      "\n",
      "   micro avg       0.81      0.81      0.81     12769\n",
      "   macro avg       0.64      0.65      0.64     12769\n",
      "weighted avg       0.81      0.81      0.81     12769\n",
      "\n",
      "\n",
      "\u001b[1m\u001b[91mLinear Support Vector Classification with TF-IDF, unigram and bigram :\u001b[0m\n",
      "              precision    recall  f1-score   support\n",
      "\n",
      "     hateful       0.44      0.24      0.31       567\n",
      "     abusive       0.91      0.90      0.90      4488\n",
      "        spam       0.84      0.87      0.85      6461\n",
      "      normal       0.50      0.54      0.52      1253\n",
      "\n",
      "   micro avg       0.82      0.82      0.82     12769\n",
      "   macro avg       0.67      0.64      0.65     12769\n",
      "weighted avg       0.81      0.82      0.81     12769\n",
      "\n"
     ]
    },
    {
     "data": {
      "image/png": "[encoded data removed]",
      "text/plain": [
       "<Figure size 432x288 with 1 Axes>"
      ]
     },
     "metadata": {
      "needs_background": "light"
     },
     "output_type": "display_data"
    }
   ],
   "source": [
    "from sklearn.svm import LinearSVC \n",
    "\n",
    "model_comparison(LinearSVC(class_weight='balanced'),'Linear Support Vector Classification')"
   ]
  },
  {
   "cell_type": "markdown",
   "metadata": {},
   "source": [
    "### 4.3 Decision Trees"
   ]
  },
  {
   "cell_type": "code",
   "execution_count": 51,
   "metadata": {},
   "outputs": [
    {
     "name": "stdout",
     "output_type": "stream",
     "text": [
      "\u001b[1m\u001b[91mDecisionTreeClassifier with CountBoW and unigram :\u001b[0m\n",
      "              precision    recall  f1-score   support\n",
      "\n",
      "     hateful       0.25      0.32      0.28       567\n",
      "     abusive       0.90      0.85      0.87      4488\n",
      "        spam       0.83      0.74      0.78      6461\n",
      "      normal       0.35      0.56      0.43      1253\n",
      "\n",
      "   micro avg       0.74      0.74      0.74     12769\n",
      "   macro avg       0.58      0.62      0.59     12769\n",
      "weighted avg       0.78      0.74      0.76     12769\n",
      "\n",
      "\n",
      "\u001b[1m\u001b[91mDecisionTreeClassifier with CountBoW, unigram and bigram :\u001b[0m\n",
      "              precision    recall  f1-score   support\n",
      "\n",
      "     hateful       0.25      0.32      0.28       567\n",
      "     abusive       0.90      0.85      0.88      4488\n",
      "        spam       0.82      0.74      0.78      6461\n",
      "      normal       0.34      0.55      0.42      1253\n",
      "\n",
      "   micro avg       0.74      0.74      0.74     12769\n",
      "   macro avg       0.58      0.61      0.59     12769\n",
      "weighted avg       0.78      0.74      0.76     12769\n",
      "\n",
      "\n",
      "\u001b[1m\u001b[91mDecisionTreeClassifier with TF-IDF and unigram :\u001b[0m\n",
      "              precision    recall  f1-score   support\n",
      "\n",
      "     hateful       0.21      0.28      0.24       567\n",
      "     abusive       0.88      0.85      0.86      4488\n",
      "        spam       0.81      0.73      0.77      6461\n",
      "      normal       0.34      0.51      0.41      1253\n",
      "\n",
      "   micro avg       0.73      0.73      0.73     12769\n",
      "   macro avg       0.56      0.59      0.57     12769\n",
      "weighted avg       0.76      0.73      0.74     12769\n",
      "\n",
      "\n",
      "\u001b[1m\u001b[91mDecisionTreeClassifier with TF-IDF, unigram and bigram :\u001b[0m\n",
      "              precision    recall  f1-score   support\n",
      "\n",
      "     hateful       0.22      0.28      0.24       567\n",
      "     abusive       0.86      0.85      0.85      4488\n",
      "        spam       0.81      0.74      0.77      6461\n",
      "      normal       0.34      0.45      0.39      1253\n",
      "\n",
      "   micro avg       0.73      0.73      0.73     12769\n",
      "   macro avg       0.55      0.58      0.56     12769\n",
      "weighted avg       0.75      0.73      0.74     12769\n",
      "\n"
     ]
    },
    {
     "data": {
      "image/png": "[encoded data removed]",
      "text/plain": [
       "<Figure size 432x288 with 1 Axes>"
      ]
     },
     "metadata": {
      "needs_background": "light"
     },
     "output_type": "display_data"
    }
   ],
   "source": [
    "from sklearn.tree import DecisionTreeClassifier\n",
    "\n",
    "model_comparison(DecisionTreeClassifier(class_weight='balanced'),'DecisionTreeClassifier')"
   ]
  }
 ],
 "metadata": {
  "kernelspec": {
   "display_name": "Python 3",
   "language": "python",
   "name": "python3"
  },
  "language_info": {
   "codemirror_mode": {
    "name": "ipython",
    "version": 3
   },
   "file_extension": ".py",
   "mimetype": "text/x-python",
   "name": "python",
   "nbconvert_exporter": "python",
   "pygments_lexer": "ipython3",
   "version": "3.7.1"
  }
 },
 "nbformat": 4,
 "nbformat_minor": 2
}
