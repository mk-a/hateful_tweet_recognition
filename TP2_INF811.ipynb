{
 "cells": [
  {
   "cell_type": "markdown",
   "metadata": {},
   "source": [
    "# INF8111 - Fouille de données\n",
    "\n",
    "\n",
    "## TP2 Automne 2019 - Détection de discours d'incitation à la haine\n",
    "\n",
    "##### Membres de l'équipe:\n",
    "\n",
    "    - MAINKA Adrien (2046374)\n",
    "    - BAKKAOUI Mehdi (2038803)\n",
    "    - METAIS Marianne (2038757)"
   ]
  },
  {
   "cell_type": "code",
   "execution_count": 2,
   "metadata": {},
   "outputs": [],
   "source": [
    "import pandas as pd\n",
    "import re\n",
    "import string\n",
    "from nltk.tokenize import word_tokenize\n",
    "import words_repeated_char\n",
    "import sys\n",
    "import pickle"
   ]
  },
  {
   "cell_type": "markdown",
   "metadata": {},
   "source": [
    "## 1. importation des données (après Preprocessing)"
   ]
  },
  {
   "cell_type": "code",
   "execution_count": 3,
   "metadata": {},
   "outputs": [],
   "source": [
    "file = open(\"data/preprocess_balanced.pkl\",'rb')\n",
    "preprocessed = pickle.load(file) #C'est une \"balanced database\"  i.e qu'il y autant d'exemples pour chacune des classes.\n",
    "file.close()"
   ]
  },
  {
   "cell_type": "code",
   "execution_count": 4,
   "metadata": {},
   "outputs": [
    {
     "data": {
      "text/html": [
       "<div>\n",
       "<style scoped>\n",
       "    .dataframe tbody tr th:only-of-type {\n",
       "        vertical-align: middle;\n",
       "    }\n",
       "\n",
       "    .dataframe tbody tr th {\n",
       "        vertical-align: top;\n",
       "    }\n",
       "\n",
       "    .dataframe thead th {\n",
       "        text-align: right;\n",
       "    }\n",
       "</style>\n",
       "<table border=\"1\" class=\"dataframe\">\n",
       "  <thead>\n",
       "    <tr style=\"text-align: right;\">\n",
       "      <th></th>\n",
       "      <th>tweet</th>\n",
       "      <th>label</th>\n",
       "    </tr>\n",
       "  </thead>\n",
       "  <tbody>\n",
       "    <tr>\n",
       "      <th>0</th>\n",
       "      <td>[yall, nigga, stop, dick, riding, ..., you, ai...</td>\n",
       "      <td>1</td>\n",
       "    </tr>\n",
       "    <tr>\n",
       "      <th>1</th>\n",
       "      <td>[i, put, my, iphone, in, my, pocket, with, scr...</td>\n",
       "      <td>0</td>\n",
       "    </tr>\n",
       "    <tr>\n",
       "      <th>2</th>\n",
       "      <td>[wait, until, you, learn, that, the, u, rescue...</td>\n",
       "      <td>0</td>\n",
       "    </tr>\n",
       "    <tr>\n",
       "      <th>3</th>\n",
       "      <td>[we, 're, dead, ., we, 're, all, dead, ., well...</td>\n",
       "      <td>0</td>\n",
       "    </tr>\n",
       "    <tr>\n",
       "      <th>4</th>\n",
       "      <td>[what, could, USER, have, in, store, ?, follow...</td>\n",
       "      <td>3</td>\n",
       "    </tr>\n",
       "  </tbody>\n",
       "</table>\n",
       "</div>"
      ],
      "text/plain": [
       "                                               tweet  label\n",
       "0  [yall, nigga, stop, dick, riding, ..., you, ai...      1\n",
       "1  [i, put, my, iphone, in, my, pocket, with, scr...      0\n",
       "2  [wait, until, you, learn, that, the, u, rescue...      0\n",
       "3  [we, 're, dead, ., we, 're, all, dead, ., well...      0\n",
       "4  [what, could, USER, have, in, store, ?, follow...      3"
      ]
     },
     "execution_count": 4,
     "metadata": {},
     "output_type": "execute_result"
    }
   ],
   "source": [
    "preprocessed.head()"
   ]
  },
  {
   "cell_type": "markdown",
   "metadata": {},
   "source": [
    "## 2. Jeu de données"
   ]
  },
  {
   "cell_type": "code",
   "execution_count": 5,
   "metadata": {},
   "outputs": [
    {
     "name": "stdout",
     "output_type": "stream",
     "text": [
      "Length of training set :  10560\n",
      "Length of validation set :  2319\n",
      "Length of test set :  2273\n"
     ]
    }
   ],
   "source": [
    "from sklearn.model_selection import train_test_split\n",
    "\n",
    "X = preprocessed['tweet']\n",
    "y = preprocessed['label']\n",
    "\n",
    "train_valid_X, test_X, train_valid_Y, test_Y = train_test_split(X, y, test_size=0.15, random_state=12)\n",
    "\n",
    "train_X, valid_X, train_Y, valid_Y = train_test_split(train_valid_X, train_valid_Y, test_size=0.18, random_state=12)\n",
    "\n",
    "print(\"Length of training set : \", len(train_X))\n",
    "print(\"Length of validation set : \", len(valid_X))\n",
    "print(\"Length of test set : \", len(test_X))"
   ]
  },
  {
   "cell_type": "markdown",
   "metadata": {},
   "source": [
    "## 3. Stemming"
   ]
  },
  {
   "cell_type": "code",
   "execution_count": 6,
   "metadata": {},
   "outputs": [],
   "source": [
    "from nltk.stem.snowball import SnowballStemmer\n",
    "\n",
    "\n",
    "class Stemmer(object):\n",
    "\n",
    "    def __init__(self):\n",
    "        self.stemmer = SnowballStemmer(\"english\", ignore_stopwords=True)\n",
    "\n",
    "    def stem(self, tweet):\n",
    "        \"\"\"\n",
    "        tweet: a list of string\n",
    "        \"\"\"\n",
    "        # Have to return the stemmed tweet\n",
    "        return list(map(self.stemmer.stem , tweet))"
   ]
  },
  {
   "cell_type": "code",
   "execution_count": 7,
   "metadata": {},
   "outputs": [],
   "source": [
    "s=Stemmer()\n",
    "X = list(map(s.stem, X))"
   ]
  },
  {
   "cell_type": "markdown",
   "metadata": {},
   "source": [
    "## 4. Classification"
   ]
  },
  {
   "cell_type": "code",
   "execution_count": 8,
   "metadata": {},
   "outputs": [],
   "source": [
    "import numpy as np\n",
    "from sklearn.metrics import accuracy_score\n",
    "from sklearn.metrics import classification_report\n",
    "\n",
    "\n",
    "def train_evaluate(classifier, training_X, training_Y, validation_X, validation_Y, bowObj):\n",
    "    \"\"\"\n",
    "    classifier: model used (LogisticRegression...)\n",
    "    training_X: tweets from the training dataset\n",
    "    training_Y: tweet labels from the training dataset\n",
    "    validation_X: tweets from the validation dataset\n",
    "    validation_Y: tweet labels from the validation dataset\n",
    "    bowObj: Bag-of-word object\n",
    "    \n",
    "    :return: the classifier and its accuracy in the training and validation dataset.\n",
    "    \"\"\"\n",
    "\n",
    "    target_names = ['hateful', 'abusive', 'spam','normal']\n",
    "    \n",
    "    training_rep = bowObj.fit_transform(training_X)\n",
    "\n",
    "    classifier.fit(training_rep, training_Y)\n",
    "\n",
    "    trainAcc = accuracy_score(training_Y, classifier.predict(training_rep))\n",
    "    validation_Y_pred = classifier.predict(bowObj.transform(validation_X))\n",
    "    validationAcc = accuracy_score(validation_Y, validation_Y_pred)\n",
    "    \n",
    "    properties = classification_report(validation_Y, validation_Y_pred, target_names=target_names)\n",
    "\n",
    "    return classifier, trainAcc, validationAcc, properties"
   ]
  },
  {
   "cell_type": "code",
   "execution_count": 19,
   "metadata": {},
   "outputs": [],
   "source": [
    "import matplotlib.pyplot as plt\n",
    "from sklearn.feature_extraction.text import CountVectorizer\n",
    "from sklearn.feature_extraction.text import TfidfVectorizer\n",
    "\n",
    "def function(token):\n",
    "    return token\n",
    "\n",
    "def model_comparison(classifier, nom_classifier):\n",
    "    \"\"\"\n",
    "    classifier: model used (LogisticRegression...)\n",
    "    nom_classifier: model name\n",
    "    \n",
    "    :return: Comparison of the classifier with CountBoW, TF-IDF, unigram and bigram.\n",
    "    \"\"\"\n",
    "    \n",
    "    trainAcc = []\n",
    "    validationAcc = []\n",
    "\n",
    "    # 1.classifier + CountBoW + unigram\n",
    "    cv = CountVectorizer(\n",
    "        analyzer='word',\n",
    "        tokenizer=function,\n",
    "        preprocessor=function,\n",
    "        token_pattern=None,\n",
    "        ngram_range=(1,1))\n",
    "    model=train_evaluate(classifier,test_X, test_Y, valid_X, valid_Y, cv)\n",
    "    trainAcc.append(model[1])\n",
    "    validationAcc.append(model[2])\n",
    "    print('\\033[1m\\033[91m'+nom_classifier+' with CountBoW and unigram :'+'\\033[0m')\n",
    "    print(model[3]+'\\n')\n",
    "\n",
    "    # 2.classifier + CountBoW + unigram + bigram\n",
    "    cv = CountVectorizer(\n",
    "        analyzer='word',\n",
    "        tokenizer=function,\n",
    "        preprocessor=function,\n",
    "        token_pattern=None,\n",
    "        ngram_range=(1,2))\n",
    "    model=train_evaluate(classifier,test_X, test_Y, valid_X, valid_Y, cv)\n",
    "    trainAcc.append(model[1])\n",
    "    validationAcc.append(model[2])\n",
    "    print('\\033[1m\\033[91m'+nom_classifier+' with CountBoW, unigram and bigram :'+'\\033[0m')\n",
    "    print(model[3]+'\\n')\n",
    "\n",
    "    # 3.classifier + TF-IDF + unigram\n",
    "    tv = TfidfVectorizer(\n",
    "        analyzer='word',\n",
    "        tokenizer=function,\n",
    "        preprocessor=function,\n",
    "        token_pattern=None,\n",
    "        ngram_range=(1,1))\n",
    "    model=train_evaluate(classifier,test_X, test_Y, valid_X, valid_Y, tv)\n",
    "    trainAcc.append(model[1])\n",
    "    validationAcc.append(model[2])\n",
    "    print('\\033[1m\\033[91m'+nom_classifier+' with TF-IDF and unigram :'+'\\033[0m')\n",
    "    print(model[3]+'\\n')\n",
    "\n",
    "    # 4.classifier + TF-IDF + unigram + bigram\n",
    "    tv = TfidfVectorizer(\n",
    "        analyzer='word',\n",
    "        tokenizer=function,\n",
    "        preprocessor=function,\n",
    "        token_pattern=None,\n",
    "        ngram_range=(1,2))\n",
    "    model=train_evaluate(classifier,test_X, test_Y, valid_X, valid_Y, tv)\n",
    "    trainAcc.append(model[1])\n",
    "    validationAcc.append(model[2])\n",
    "    print('\\033[1m\\033[91m'+nom_classifier+' with TF-IDF, unigram and bigram :'+'\\033[0m')\n",
    "    print(model[3])\n",
    "    \n",
    "    # Graphe de comparaison des différents modèles\n",
    "    \n",
    "    r=np.arange(len(trainAcc))\n",
    "    \n",
    "    TypeAcc = [\"Training\", \"Validation\"]\n",
    "    models_names = ['CountBoW \\nunigram', 'CountBoW \\nunigram \\nbigram', \n",
    "     'TF-IDF \\nunigram', 'TF-IDF \\nunigram \\nbigram']\n",
    "    bar_width = 0.4\n",
    "\n",
    "    plt.bar(r, trainAcc,bar_width)\n",
    "    plt.bar(r+bar_width, validationAcc,bar_width)\n",
    "    plt.xticks(r+bar_width/2, models_names, rotation=0)\n",
    "\n",
    "    plt.xlabel('Classifier')\n",
    "    plt.ylabel('Accuracy')\n",
    "\n",
    "    plt.title(nom_classifier)\n",
    "\n",
    "    plt.legend(TypeAcc)\n",
    "\n",
    "    for i in range(len(trainAcc)):\n",
    "        plt.text(x = r[i]-bar_width/2 , y = trainAcc[i]+0.01, s = '%.4f' % trainAcc[i])\n",
    "        plt.text(x = r[i]+bar_width/2 , y = validationAcc[i]+0.01, s = '%.4f' % validationAcc[i])\n",
    "\n",
    "    plt.ylim(.5, 1.2)\n",
    "    plt.show()"
   ]
  },
  {
   "cell_type": "markdown",
   "metadata": {},
   "source": [
    "### 5.1 Modèles linéaires"
   ]
  },
  {
   "cell_type": "markdown",
   "metadata": {},
   "source": [
    "#### 5.1.1 Régression logistique"
   ]
  },
  {
   "cell_type": "code",
   "execution_count": 20,
   "metadata": {},
   "outputs": [
    {
     "name": "stdout",
     "output_type": "stream",
     "text": [
      "\u001b[1m\u001b[91mLogisticRegression with CountBoW and unigram :\u001b[0m\n",
      "              precision    recall  f1-score   support\n",
      "\n",
      "     hateful       0.59      0.53      0.56       550\n",
      "     abusive       0.73      0.76      0.75       558\n",
      "        spam       0.58      0.49      0.53       618\n",
      "      normal       0.66      0.80      0.72       593\n",
      "\n",
      "   micro avg       0.64      0.64      0.64      2319\n",
      "   macro avg       0.64      0.64      0.64      2319\n",
      "weighted avg       0.64      0.64      0.64      2319\n",
      "\n",
      "\n",
      "\u001b[1m\u001b[91mLogisticRegression with CountBoW, unigram and bigram :\u001b[0m\n",
      "              precision    recall  f1-score   support\n",
      "\n",
      "     hateful       0.59      0.52      0.55       550\n",
      "     abusive       0.74      0.76      0.75       558\n",
      "        spam       0.59      0.49      0.53       618\n",
      "      normal       0.66      0.83      0.74       593\n",
      "\n",
      "   micro avg       0.65      0.65      0.65      2319\n",
      "   macro avg       0.64      0.65      0.64      2319\n",
      "weighted avg       0.64      0.65      0.64      2319\n",
      "\n",
      "\n",
      "\u001b[1m\u001b[91mLogisticRegression with TF-IDF and unigram :\u001b[0m\n",
      "              precision    recall  f1-score   support\n",
      "\n",
      "     hateful       0.61      0.52      0.56       550\n",
      "     abusive       0.76      0.77      0.76       558\n",
      "        spam       0.58      0.48      0.52       618\n",
      "      normal       0.64      0.85      0.73       593\n",
      "\n",
      "   micro avg       0.65      0.65      0.65      2319\n",
      "   macro avg       0.65      0.65      0.65      2319\n",
      "weighted avg       0.65      0.65      0.64      2319\n",
      "\n",
      "\n",
      "\u001b[1m\u001b[91mLogisticRegression with TF-IDF, unigram and bigram :\u001b[0m\n",
      "              precision    recall  f1-score   support\n",
      "\n",
      "     hateful       0.62      0.48      0.54       550\n",
      "     abusive       0.74      0.78      0.76       558\n",
      "        spam       0.57      0.47      0.51       618\n",
      "      normal       0.64      0.86      0.73       593\n",
      "\n",
      "   micro avg       0.65      0.65      0.65      2319\n",
      "   macro avg       0.64      0.65      0.64      2319\n",
      "weighted avg       0.64      0.65      0.63      2319\n",
      "\n"
     ]
    },
    {
     "data": {
      "image/png": "[encoded data removed]",
      "text/plain": [
       "<Figure size 432x288 with 1 Axes>"
      ]
     },
     "metadata": {
      "needs_background": "light"
     },
     "output_type": "display_data"
    }
   ],
   "source": [
    "from sklearn.linear_model import LogisticRegression\n",
    "\n",
    "model_comparison(LogisticRegression(),'LogisticRegression')"
   ]
  },
  {
   "cell_type": "markdown",
   "metadata": {},
   "source": [
    "#### 5.1.2 Stochastic Gradient Descent"
   ]
  },
  {
   "cell_type": "code",
   "execution_count": 21,
   "metadata": {},
   "outputs": [
    {
     "name": "stderr",
     "output_type": "stream",
     "text": [
      "C:\\Users\\mehdi\\Anaconda3\\lib\\site-packages\\sklearn\\linear_model\\stochastic_gradient.py:166: FutureWarning: max_iter and tol parameters have been added in SGDClassifier in 0.19. If both are left unset, they default to max_iter=5 and tol=None. If tol is not None, max_iter defaults to max_iter=1000. From 0.21, default max_iter will be 1000, and default tol will be 1e-3.\n",
      "  FutureWarning)\n"
     ]
    },
    {
     "name": "stdout",
     "output_type": "stream",
     "text": [
      "\u001b[1m\u001b[91mSGDClassifier with CountBoW and unigram :\u001b[0m\n",
      "              precision    recall  f1-score   support\n",
      "\n",
      "     hateful       0.54      0.58      0.56       550\n",
      "     abusive       0.74      0.66      0.70       558\n",
      "        spam       0.59      0.36      0.45       618\n",
      "      normal       0.58      0.83      0.68       593\n",
      "\n",
      "   micro avg       0.61      0.61      0.61      2319\n",
      "   macro avg       0.61      0.61      0.60      2319\n",
      "weighted avg       0.61      0.61      0.59      2319\n",
      "\n",
      "\n",
      "\u001b[1m\u001b[91mSGDClassifier with CountBoW, unigram and bigram :\u001b[0m\n",
      "              precision    recall  f1-score   support\n",
      "\n",
      "     hateful       0.58      0.46      0.52       550\n",
      "     abusive       0.69      0.79      0.74       558\n",
      "        spam       0.57      0.44      0.50       618\n",
      "      normal       0.64      0.83      0.72       593\n",
      "\n",
      "   micro avg       0.63      0.63      0.63      2319\n",
      "   macro avg       0.62      0.63      0.62      2319\n",
      "weighted avg       0.62      0.63      0.62      2319\n",
      "\n",
      "\n",
      "\u001b[1m\u001b[91mSGDClassifier with TF-IDF and unigram :\u001b[0m\n",
      "              precision    recall  f1-score   support\n",
      "\n",
      "     hateful       0.58      0.54      0.56       550\n",
      "     abusive       0.70      0.74      0.72       558\n",
      "        spam       0.57      0.43      0.49       618\n",
      "      normal       0.64      0.81      0.71       593\n",
      "\n",
      "   micro avg       0.63      0.63      0.63      2319\n",
      "   macro avg       0.62      0.63      0.62      2319\n",
      "weighted avg       0.62      0.63      0.62      2319\n",
      "\n",
      "\n",
      "\u001b[1m\u001b[91mSGDClassifier with TF-IDF, unigram and bigram :\u001b[0m\n",
      "              precision    recall  f1-score   support\n",
      "\n",
      "     hateful       0.58      0.58      0.58       550\n",
      "     abusive       0.75      0.75      0.75       558\n",
      "        spam       0.59      0.44      0.51       618\n",
      "      normal       0.66      0.83      0.73       593\n",
      "\n",
      "   micro avg       0.65      0.65      0.65      2319\n",
      "   macro avg       0.65      0.65      0.64      2319\n",
      "weighted avg       0.64      0.65      0.64      2319\n",
      "\n"
     ]
    },
    {
     "data": {
      "image/png": "[encoded data removed]",
      "text/plain": [
       "<Figure size 432x288 with 1 Axes>"
      ]
     },
     "metadata": {
      "needs_background": "light"
     },
     "output_type": "display_data"
    }
   ],
   "source": [
    "from sklearn.linear_model import SGDClassifier\n",
    "\n",
    "model_comparison(SGDClassifier(),'SGDClassifier')"
   ]
  },
  {
   "cell_type": "markdown",
   "metadata": {},
   "source": [
    "#### 5.1.3 Perceptron"
   ]
  },
  {
   "cell_type": "code",
   "execution_count": 22,
   "metadata": {},
   "outputs": [
    {
     "name": "stderr",
     "output_type": "stream",
     "text": [
      "C:\\Users\\mehdi\\Anaconda3\\lib\\site-packages\\sklearn\\linear_model\\stochastic_gradient.py:166: FutureWarning: max_iter and tol parameters have been added in Perceptron in 0.19. If both are left unset, they default to max_iter=5 and tol=None. If tol is not None, max_iter defaults to max_iter=1000. From 0.21, default max_iter will be 1000, and default tol will be 1e-3.\n",
      "  FutureWarning)\n"
     ]
    },
    {
     "name": "stdout",
     "output_type": "stream",
     "text": [
      "\u001b[1m\u001b[91mPerceptron with CountBoW and unigram :\u001b[0m\n",
      "              precision    recall  f1-score   support\n",
      "\n",
      "     hateful       0.57      0.51      0.53       550\n",
      "     abusive       0.71      0.75      0.73       558\n",
      "        spam       0.55      0.44      0.49       618\n",
      "      normal       0.62      0.77      0.68       593\n",
      "\n",
      "   micro avg       0.61      0.61      0.61      2319\n",
      "   macro avg       0.61      0.62      0.61      2319\n",
      "weighted avg       0.61      0.61      0.61      2319\n",
      "\n",
      "\n",
      "\u001b[1m\u001b[91mPerceptron with CountBoW, unigram and bigram :\u001b[0m\n",
      "              precision    recall  f1-score   support\n",
      "\n",
      "     hateful       0.55      0.56      0.56       550\n",
      "     abusive       0.65      0.78      0.71       558\n",
      "        spam       0.53      0.38      0.44       618\n",
      "      normal       0.68      0.74      0.71       593\n",
      "\n",
      "   micro avg       0.61      0.61      0.61      2319\n",
      "   macro avg       0.61      0.62      0.61      2319\n",
      "weighted avg       0.60      0.61      0.60      2319\n",
      "\n",
      "\n",
      "\u001b[1m\u001b[91mPerceptron with TF-IDF and unigram :\u001b[0m\n",
      "              precision    recall  f1-score   support\n",
      "\n",
      "     hateful       0.57      0.45      0.50       550\n",
      "     abusive       0.60      0.75      0.67       558\n",
      "        spam       0.55      0.45      0.50       618\n",
      "      normal       0.66      0.75      0.70       593\n",
      "\n",
      "   micro avg       0.60      0.60      0.60      2319\n",
      "   macro avg       0.59      0.60      0.59      2319\n",
      "weighted avg       0.59      0.60      0.59      2319\n",
      "\n",
      "\n",
      "\u001b[1m\u001b[91mPerceptron with TF-IDF, unigram and bigram :\u001b[0m\n",
      "              precision    recall  f1-score   support\n",
      "\n",
      "     hateful       0.58      0.51      0.55       550\n",
      "     abusive       0.72      0.75      0.73       558\n",
      "        spam       0.56      0.47      0.51       618\n",
      "      normal       0.64      0.79      0.71       593\n",
      "\n",
      "   micro avg       0.63      0.63      0.63      2319\n",
      "   macro avg       0.63      0.63      0.62      2319\n",
      "weighted avg       0.62      0.63      0.62      2319\n",
      "\n"
     ]
    },
    {
     "data": {
      "image/png": "[encoded data removed]",
      "text/plain": [
       "<Figure size 432x288 with 1 Axes>"
      ]
     },
     "metadata": {
      "needs_background": "light"
     },
     "output_type": "display_data"
    }
   ],
   "source": [
    "from sklearn.linear_model import Perceptron\n",
    "\n",
    "model_comparison(Perceptron(),'Perceptron')"
   ]
  },
  {
   "cell_type": "markdown",
   "metadata": {},
   "source": [
    "#### 5.1.4 PassiveAggressiveClassifier"
   ]
  },
  {
   "cell_type": "code",
   "execution_count": 23,
   "metadata": {},
   "outputs": [
    {
     "name": "stderr",
     "output_type": "stream",
     "text": [
      "C:\\Users\\mehdi\\Anaconda3\\lib\\site-packages\\sklearn\\linear_model\\stochastic_gradient.py:166: FutureWarning: max_iter and tol parameters have been added in PassiveAggressiveClassifier in 0.19. If both are left unset, they default to max_iter=5 and tol=None. If tol is not None, max_iter defaults to max_iter=1000. From 0.21, default max_iter will be 1000, and default tol will be 1e-3.\n",
      "  FutureWarning)\n"
     ]
    },
    {
     "name": "stdout",
     "output_type": "stream",
     "text": [
      "\u001b[1m\u001b[91mPassiveAggressiveClassifier with CountBoW and unigram :\u001b[0m\n",
      "              precision    recall  f1-score   support\n",
      "\n",
      "     hateful       0.55      0.59      0.57       550\n",
      "     abusive       0.72      0.73      0.72       558\n",
      "        spam       0.59      0.39      0.47       618\n",
      "      normal       0.63      0.80      0.71       593\n",
      "\n",
      "   micro avg       0.63      0.63      0.63      2319\n",
      "   macro avg       0.62      0.63      0.62      2319\n",
      "weighted avg       0.62      0.63      0.62      2319\n",
      "\n",
      "\n",
      "\u001b[1m\u001b[91mPassiveAggressiveClassifier with CountBoW, unigram and bigram :\u001b[0m\n",
      "              precision    recall  f1-score   support\n",
      "\n",
      "     hateful       0.58      0.53      0.56       550\n",
      "     abusive       0.71      0.77      0.74       558\n",
      "        spam       0.57      0.46      0.51       618\n",
      "      normal       0.66      0.80      0.72       593\n",
      "\n",
      "   micro avg       0.64      0.64      0.64      2319\n",
      "   macro avg       0.63      0.64      0.63      2319\n",
      "weighted avg       0.63      0.64      0.63      2319\n",
      "\n",
      "\n",
      "\u001b[1m\u001b[91mPassiveAggressiveClassifier with TF-IDF and unigram :\u001b[0m\n",
      "              precision    recall  f1-score   support\n",
      "\n",
      "     hateful       0.58      0.56      0.57       550\n",
      "     abusive       0.69      0.73      0.71       558\n",
      "        spam       0.57      0.46      0.51       618\n",
      "      normal       0.67      0.78      0.72       593\n",
      "\n",
      "   micro avg       0.63      0.63      0.63      2319\n",
      "   macro avg       0.63      0.63      0.63      2319\n",
      "weighted avg       0.63      0.63      0.63      2319\n",
      "\n",
      "\n",
      "\u001b[1m\u001b[91mPassiveAggressiveClassifier with TF-IDF, unigram and bigram :\u001b[0m\n",
      "              precision    recall  f1-score   support\n",
      "\n",
      "     hateful       0.60      0.50      0.55       550\n",
      "     abusive       0.74      0.76      0.75       558\n",
      "        spam       0.58      0.50      0.54       618\n",
      "      normal       0.65      0.83      0.73       593\n",
      "\n",
      "   micro avg       0.65      0.65      0.65      2319\n",
      "   macro avg       0.65      0.65      0.64      2319\n",
      "weighted avg       0.64      0.65      0.64      2319\n",
      "\n"
     ]
    },
    {
     "data": {
      "image/png": "[encoded data removed]",
      "text/plain": [
       "<Figure size 432x288 with 1 Axes>"
      ]
     },
     "metadata": {
      "needs_background": "light"
     },
     "output_type": "display_data"
    }
   ],
   "source": [
    "from sklearn.linear_model import PassiveAggressiveClassifier\n",
    "\n",
    "model_comparison(PassiveAggressiveClassifier(),'PassiveAggressiveClassifier')"
   ]
  },
  {
   "cell_type": "markdown",
   "metadata": {},
   "source": [
    "### 5.2 Support Vector Machines "
   ]
  },
  {
   "cell_type": "markdown",
   "metadata": {},
   "source": [
    "#### 5.2.1  Linear Support Vector Classification"
   ]
  },
  {
   "cell_type": "code",
   "execution_count": 24,
   "metadata": {},
   "outputs": [
    {
     "name": "stderr",
     "output_type": "stream",
     "text": [
      "C:\\Users\\mehdi\\Anaconda3\\lib\\site-packages\\sklearn\\svm\\base.py:922: ConvergenceWarning: Liblinear failed to converge, increase the number of iterations.\n",
      "  \"the number of iterations.\", ConvergenceWarning)\n"
     ]
    },
    {
     "name": "stdout",
     "output_type": "stream",
     "text": [
      "\u001b[1m\u001b[91mLinear Support Vector Classification with CountBoW and unigram :\u001b[0m\n",
      "              precision    recall  f1-score   support\n",
      "\n",
      "     hateful       0.56      0.52      0.54       550\n",
      "     abusive       0.67      0.75      0.71       558\n",
      "        spam       0.56      0.45      0.50       618\n",
      "      normal       0.66      0.76      0.70       593\n",
      "\n",
      "   micro avg       0.62      0.62      0.62      2319\n",
      "   macro avg       0.61      0.62      0.61      2319\n",
      "weighted avg       0.61      0.62      0.61      2319\n",
      "\n",
      "\n",
      "\u001b[1m\u001b[91mLinear Support Vector Classification with CountBoW, unigram and bigram :\u001b[0m\n",
      "              precision    recall  f1-score   support\n",
      "\n",
      "     hateful       0.57      0.52      0.54       550\n",
      "     abusive       0.70      0.76      0.73       558\n",
      "        spam       0.58      0.44      0.50       618\n",
      "      normal       0.65      0.81      0.72       593\n",
      "\n",
      "   micro avg       0.63      0.63      0.63      2319\n",
      "   macro avg       0.63      0.63      0.62      2319\n",
      "weighted avg       0.62      0.63      0.62      2319\n",
      "\n",
      "\n",
      "\u001b[1m\u001b[91mLinear Support Vector Classification with TF-IDF and unigram :\u001b[0m\n",
      "              precision    recall  f1-score   support\n",
      "\n",
      "     hateful       0.60      0.53      0.56       550\n",
      "     abusive       0.73      0.76      0.74       558\n",
      "        spam       0.58      0.48      0.53       618\n",
      "      normal       0.65      0.81      0.72       593\n",
      "\n",
      "   micro avg       0.64      0.64      0.64      2319\n",
      "   macro avg       0.64      0.65      0.64      2319\n",
      "weighted avg       0.64      0.64      0.64      2319\n",
      "\n",
      "\n",
      "\u001b[1m\u001b[91mLinear Support Vector Classification with TF-IDF, unigram and bigram :\u001b[0m\n",
      "              precision    recall  f1-score   support\n",
      "\n",
      "     hateful       0.62      0.51      0.56       550\n",
      "     abusive       0.74      0.77      0.76       558\n",
      "        spam       0.59      0.50      0.54       618\n",
      "      normal       0.65      0.85      0.74       593\n",
      "\n",
      "   micro avg       0.65      0.65      0.65      2319\n",
      "   macro avg       0.65      0.66      0.65      2319\n",
      "weighted avg       0.65      0.65      0.65      2319\n",
      "\n"
     ]
    },
    {
     "data": {
      "image/png": "[encoded data removed]",
      "text/plain": [
       "<Figure size 432x288 with 1 Axes>"
      ]
     },
     "metadata": {
      "needs_background": "light"
     },
     "output_type": "display_data"
    }
   ],
   "source": [
    "from sklearn.svm import LinearSVC \n",
    "\n",
    "model_comparison(LinearSVC(),'Linear Support Vector Classification')"
   ]
  },
  {
   "cell_type": "markdown",
   "metadata": {},
   "source": [
    "### 5.3 Decision Trees"
   ]
  },
  {
   "cell_type": "code",
   "execution_count": 25,
   "metadata": {},
   "outputs": [
    {
     "name": "stdout",
     "output_type": "stream",
     "text": [
      "\u001b[1m\u001b[91mDecisionTreeClassifier with CountBoW and unigram :\u001b[0m\n",
      "              precision    recall  f1-score   support\n",
      "\n",
      "     hateful       0.49      0.47      0.48       550\n",
      "     abusive       0.72      0.72      0.72       558\n",
      "        spam       0.47      0.39      0.43       618\n",
      "      normal       0.61      0.74      0.67       593\n",
      "\n",
      "   micro avg       0.58      0.58      0.58      2319\n",
      "   macro avg       0.57      0.58      0.57      2319\n",
      "weighted avg       0.57      0.58      0.57      2319\n",
      "\n",
      "\n",
      "\u001b[1m\u001b[91mDecisionTreeClassifier with CountBoW, unigram and bigram :\u001b[0m\n",
      "              precision    recall  f1-score   support\n",
      "\n",
      "     hateful       0.48      0.46      0.47       550\n",
      "     abusive       0.75      0.71      0.73       558\n",
      "        spam       0.48      0.39      0.43       618\n",
      "      normal       0.60      0.77      0.68       593\n",
      "\n",
      "   micro avg       0.58      0.58      0.58      2319\n",
      "   macro avg       0.58      0.58      0.58      2319\n",
      "weighted avg       0.58      0.58      0.57      2319\n",
      "\n",
      "\n",
      "\u001b[1m\u001b[91mDecisionTreeClassifier with TF-IDF and unigram :\u001b[0m\n",
      "              precision    recall  f1-score   support\n",
      "\n",
      "     hateful       0.45      0.44      0.44       550\n",
      "     abusive       0.68      0.70      0.69       558\n",
      "        spam       0.47      0.39      0.43       618\n",
      "      normal       0.61      0.71      0.66       593\n",
      "\n",
      "   micro avg       0.56      0.56      0.56      2319\n",
      "   macro avg       0.55      0.56      0.56      2319\n",
      "weighted avg       0.55      0.56      0.55      2319\n",
      "\n",
      "\n",
      "\u001b[1m\u001b[91mDecisionTreeClassifier with TF-IDF, unigram and bigram :\u001b[0m\n",
      "              precision    recall  f1-score   support\n",
      "\n",
      "     hateful       0.47      0.43      0.45       550\n",
      "     abusive       0.66      0.69      0.67       558\n",
      "        spam       0.45      0.31      0.37       618\n",
      "      normal       0.56      0.77      0.65       593\n",
      "\n",
      "   micro avg       0.55      0.55      0.55      2319\n",
      "   macro avg       0.54      0.55      0.54      2319\n",
      "weighted avg       0.53      0.55      0.53      2319\n",
      "\n"
     ]
    },
    {
     "data": {
      "image/png": "[encoded data removed]",
      "text/plain": [
       "<Figure size 432x288 with 1 Axes>"
      ]
     },
     "metadata": {
      "needs_background": "light"
     },
     "output_type": "display_data"
    }
   ],
   "source": [
    "from sklearn.tree import DecisionTreeClassifier\n",
    "\n",
    "model_comparison(DecisionTreeClassifier(),'DecisionTreeClassifier')"
   ]
  }
 ],
 "metadata": {
  "kernelspec": {
   "display_name": "Python 3",
   "language": "python",
   "name": "python3"
  },
  "language_info": {
   "codemirror_mode": {
    "name": "ipython",
    "version": 3
   },
   "file_extension": ".py",
   "mimetype": "text/x-python",
   "name": "python",
   "nbconvert_exporter": "python",
   "pygments_lexer": "ipython3",
   "version": "3.7.1"
  }
 },
 "nbformat": 4,
 "nbformat_minor": 2
}
