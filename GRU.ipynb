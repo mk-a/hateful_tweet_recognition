{
  "nbformat": 4,
  "nbformat_minor": 0,
  "metadata": {
    "kernelspec": {
      "name": "python3",
      "display_name": "Python 3"
    },
    "language_info": {
      "codemirror_mode": {
        "name": "ipython",
        "version": 3
      },
      "file_extension": ".py",
      "mimetype": "text/x-python",
      "name": "python",
      "nbconvert_exporter": "python",
      "pygments_lexer": "ipython3",
      "version": "3.7.4"
    },
    "colab": {
      "name": "RNN.ipynb",
      "provenance": []
    },
    "accelerator": "GPU"
  },
  "cells": [
    {
      "cell_type": "code",
      "metadata": {
        "id": "5XBsfQDpc9Un",
        "colab_type": "code",
        "colab": {}
      },
      "source": [
        "import numpy as np\n",
        "import pandas as pd\n",
        "import re, torch, time\n",
        "from sklearn.preprocessing import LabelEncoder, OneHotEncoder\n",
        "from sklearn.model_selection import train_test_split\n",
        "from sklearn.metrics import classification_report, f1_score, confusion_matrix\n",
        "from sklearn.utils.class_weight import compute_class_weight\n",
        "from collections import Counter\n",
        "from sklearn.utils.multiclass import unique_labels\n",
        "import matplotlib.pyplot as plt\n",
        "import torch.nn as nn\n",
        "import torch.utils.data\n",
        "import copy"
      ],
      "execution_count": 0,
      "outputs": []
    },
    {
      "cell_type": "code",
      "metadata": {
        "id": "U55XbJOXc9VB",
        "colab_type": "code",
        "outputId": "3232805a-9fb9-4a46-e723-b39eba81aa55",
        "colab": {
          "base_uri": "https://localhost:8080/",
          "height": 34
        }
      },
      "source": [
        "if torch.cuda.is_available():\n",
        "    device = torch.device(\"cuda\")\n",
        "else:\n",
        "    device = torch.device(\"cpu\")\n",
        "print(device)"
      ],
      "execution_count": 127,
      "outputs": [
        {
          "output_type": "stream",
          "text": [
            "cuda\n"
          ],
          "name": "stdout"
        }
      ]
    },
    {
      "cell_type": "code",
      "metadata": {
        "id": "2eTVZFV8deDE",
        "colab_type": "code",
        "outputId": "a96f93bf-3b28-4b92-bc85-af5b9272707f",
        "colab": {
          "base_uri": "https://localhost:8080/",
          "height": 34
        }
      },
      "source": [
        "from google.colab import drive\n",
        "drive.mount('/content/drive')"
      ],
      "execution_count": 128,
      "outputs": [
        {
          "output_type": "stream",
          "text": [
            "Drive already mounted at /content/drive; to attempt to forcibly remount, call drive.mount(\"/content/drive\", force_remount=True).\n"
          ],
          "name": "stdout"
        }
      ]
    },
    {
      "cell_type": "code",
      "metadata": {
        "id": "zgcKn7dwc9VX",
        "colab_type": "code",
        "colab": {}
      },
      "source": [
        "data = pd.read_pickle(\"/content/drive/My Drive/Colab Notebooks/INF8111/data/preprocess.pkl\")"
      ],
      "execution_count": 0,
      "outputs": []
    },
    {
      "cell_type": "code",
      "metadata": {
        "id": "QCn_iC3cc9Vr",
        "colab_type": "code",
        "outputId": "76d5c8ce-78a4-4b7f-a582-90bc1c177c20",
        "colab": {
          "base_uri": "https://localhost:8080/",
          "height": 298
        }
      },
      "source": [
        "plt.hist([len(x) for x in data.tweet], bins=50)\n",
        "plt.title(\"Sequence length distribution\")"
      ],
      "execution_count": 145,
      "outputs": [
        {
          "output_type": "execute_result",
          "data": {
            "text/plain": [
              "Text(0.5, 1.0, 'Sequence length distribution')"
            ]
          },
          "metadata": {
            "tags": []
          },
          "execution_count": 145
        },
        {
          "output_type": "display_data",
          "data": {
            "image/png": "[encoded data removed]",
            "text/plain": [
              "<Figure size 432x288 with 1 Axes>"
            ]
          },
          "metadata": {
            "tags": []
          }
        }
      ]
    },
    {
      "cell_type": "code",
      "metadata": {
        "id": "RvHYOllzz73B",
        "colab_type": "code",
        "outputId": "5dd79960-703d-406a-cf6e-43586ee8e16d",
        "colab": {
          "base_uri": "https://localhost:8080/",
          "height": 52
        }
      },
      "source": [
        "seq_len = 30\n",
        "print(\"Mean sequence length: {:.2f}\".format(np.array([len(x) for x in data.tweet]).mean()))\n",
        "print(\"{:.2f}% of the samples are shorter than {}\".format(100*len([len(x) for x in data.tweet if len(x)<=seq_len])/len(data), seq_len))"
      ],
      "execution_count": 146,
      "outputs": [
        {
          "output_type": "stream",
          "text": [
            "Mean sequence length: 19.07\n",
            "95.09% of the samples are shorter than 30\n"
          ],
          "name": "stdout"
        }
      ]
    },
    {
      "cell_type": "code",
      "metadata": {
        "id": "VgJY4N4Ic9V2",
        "colab_type": "code",
        "colab": {}
      },
      "source": [
        "def text2seq(X, y, vocab_max, seq_len, unk_tok='UNK', padd_tok='PAD' ):\n",
        "  \"\"\" For a list of inputs X with different sequence length, associated to the labels y.\n",
        "      Builds the list of the vocab_max-2 most common words. Maps each of them to a number.\n",
        "      Replace the other words by the token unk_tok, which is mapped to the value 1.\n",
        "      Then force the input to have a sequence length of seq_len with this policy:\n",
        "        - If the sample x is short than seq_len, then adds padding at the begining.\n",
        "          The padding token is set by the variable padd_tok. And mapped to the value 0.\n",
        "        - If the sample x is longer than seq_len, then extracts (len(x)//seq_len)+1\n",
        "          sequences from x.\n",
        "  \"\"\"\n",
        "  count_words = Counter()\n",
        "  for post in X:\n",
        "    for tok in post:\n",
        "      count_words[tok] += 1\n",
        "  vocab = {w for w,_ in count_words.most_common(vocab_max-2)}.union( {unk_tok, padd_tok})\n",
        "  word2val = {w : i+2 for i, (w,_) in enumerate( count_words.most_common(vocab_max-2) )}\n",
        "  word2val[padd_tok] = 0\n",
        "  word2val[unk_tok] = 1\n",
        "\n",
        "  X2 = []\n",
        "  y2 = []\n",
        "  for i, x in enumerate(X):\n",
        "    if len(x) < seq_len:\n",
        "      tmp = x.copy()\n",
        "      for _ in range(seq_len - len(x)):\n",
        "        tmp.insert(0, padd_tok)\n",
        "      X2.append([word2val[tok] if tok in vocab else 1 for tok in tmp])\n",
        "      y2.append(y[i])\n",
        "    elif len(x) == seq_len:\n",
        "      X2.append([word2val[tok] if tok in vocab else 1 for tok in x]) \n",
        "      y2.append(y[i])\n",
        "    else :\n",
        "      for j in range(len(x)//seq_len):\n",
        "        X2.append([word2val[tok] if tok in vocab else 1 for tok in  x[j*seq_len:(j+1)*seq_len]])\n",
        "        y2.append(y[i])\n",
        "      X2.append([word2val[tok] if tok in vocab else 1 for tok in  x[-seq_len:]])\n",
        "      y2.append(y[i])\n",
        "  return word2val, X2, y2"
      ],
      "execution_count": 0,
      "outputs": []
    },
    {
      "cell_type": "code",
      "metadata": {
        "id": "UaevReF6lMD4",
        "colab_type": "code",
        "colab": {}
      },
      "source": [
        "count = Counter()\n",
        "for tweet in data.tweet.values:\n",
        "  for tok in tweet:\n",
        "    count[tok] += 1"
      ],
      "execution_count": 0,
      "outputs": []
    },
    {
      "cell_type": "code",
      "metadata": {
        "id": "dZ68QPm2lt_T",
        "colab_type": "code",
        "outputId": "2b16a0d7-e242-42f5-8863-371e0c018ef7",
        "colab": {
          "base_uri": "https://localhost:8080/",
          "height": 34
        }
      },
      "source": [
        "seq_len = 30\n",
        "hapax = [a for a in count if count[a] == 1]\n",
        "print(\"Vocab_size: {}\\t Hapax: {}\\tVocab_withouthapax: {}\".format(len(count), len(hapax), len(count) - len(hapax)))"
      ],
      "execution_count": 149,
      "outputs": [
        {
          "output_type": "stream",
          "text": [
            "Vocab_size: 63465\t Hapax: 37849\tVocab_withouthapax: 25616\n"
          ],
          "name": "stdout"
        }
      ]
    },
    {
      "cell_type": "code",
      "metadata": {
        "id": "Ay7EXKwDlJAX",
        "colab_type": "code",
        "colab": {}
      },
      "source": [
        "vocab_max = len(count) # - len(hapax)\n",
        "word2val, X, y = text2seq(data.tweet.values, data.label.values, vocab_max, seq_len) "
      ],
      "execution_count": 0,
      "outputs": []
    },
    {
      "cell_type": "code",
      "metadata": {
        "id": "AQFW2Y4vc9WF",
        "colab_type": "code",
        "colab": {}
      },
      "source": [
        "X_train, X_valid, y_train, y_valid = train_test_split(X, y, test_size=0.33, random_state=42)\n",
        "X_valid, X_test, y_valid, y_test = train_test_split(X_valid, y_valid, test_size=0.5, random_state=42)\n",
        "X_train = torch.tensor(X_train)\n",
        "X_valid = torch.tensor(X_valid)\n",
        "X_test = torch.tensor(X_test)\n",
        "y_train = torch.tensor(y_train)\n",
        "y_valid = torch.tensor(y_valid)\n",
        "y_test = torch.tensor(y_test)\n",
        "train_data = torch.utils.data.TensorDataset(X_train, y_train)\n",
        "valid_data = torch.utils.data.TensorDataset(X_valid, y_valid)\n",
        "test_data = torch.utils.data.TensorDataset(X_test, y_test)"
      ],
      "execution_count": 0,
      "outputs": []
    },
    {
      "cell_type": "code",
      "metadata": {
        "id": "bP_e5_Gqnrzu",
        "colab_type": "code",
        "colab": {}
      },
      "source": [
        "batch_size = 128\n",
        "\n",
        "train_loader = torch.utils.data.DataLoader(train_data, shuffle=True, batch_size=batch_size)\n",
        "valid_loader = torch.utils.data.DataLoader(valid_data, shuffle=True, batch_size=batch_size)\n",
        "test_loader = torch.utils.data.DataLoader(test_data, shuffle=True, batch_size=batch_size)"
      ],
      "execution_count": 0,
      "outputs": []
    },
    {
      "cell_type": "code",
      "metadata": {
        "id": "8UV-k6sFc9WP",
        "colab_type": "code",
        "colab": {}
      },
      "source": [
        "class GRU(nn.Module):\n",
        "    def __init__(self,\n",
        "                 emb_size,\n",
        "                 hidden_size,\n",
        "                 vocab_size,\n",
        "                 num_layers,\n",
        "                 output_size,\n",
        "                 nonlinearity = 'relu',\n",
        "                 bias = True,\n",
        "                 dropout = 0,\n",
        "                 bidirectional = True\n",
        "                ):\n",
        "        super(GRU, self).__init__()\n",
        "        #hyper-parameters\n",
        "        self.emb_size      = emb_size\n",
        "        self.hidden_size   = hidden_size\n",
        "        self.vocab_size    = vocab_size\n",
        "        self.num_layers    = num_layers\n",
        "        self.output_size   = output_size\n",
        "        self.nonlinearity  = nonlinearity\n",
        "        self.bias          = bias\n",
        "        self.dropout       = dropout\n",
        "        self.bidirectional = bidirectional\n",
        "        #layers\n",
        "        self.embedding = nn.Embedding(vocab_size, emb_size).to(device)\n",
        "        self.gru = nn.GRU(input_size = emb_size,\n",
        "                          hidden_size = hidden_size,\n",
        "                          num_layers = num_layers,\n",
        "                          bias = bias,\n",
        "                          dropout = dropout,\n",
        "                          bidirectional = bidirectional\n",
        "                         ).to(device)\n",
        "        self.linear = nn.Linear((bidirectional+1) *hidden_size, output_size).to(device)\n",
        "        \n",
        "    def forward(self, X):\n",
        "        out = self.embedding(X.t())\n",
        "        out, _ = self.gru(out)\n",
        "        return self.linear(out[-1])\n",
        "    \n",
        "    def predict(self, data):\n",
        "        if isinstance(data, torch.utils.data.DataLoader):\n",
        "            y = []\n",
        "            for i in range((len(data.dataset)//data.batch_size)+1):\n",
        "                imin = i*data.batch_size\n",
        "                imax = min((i+1)*batch_size, len(data.dataset))\n",
        "                y.append(self.forward(data.dataset[imin:imax][0].to(device)).max(dim=1)[1])\n",
        "            return torch.cat(y)\n",
        "        elif isinstance(data, torch.Tensor):\n",
        "            return self.forward(data.to(device)).max(dim=1)[1]\n",
        "        elif isinstance(data, torch.utils.data.dataset.TensorDataset):\n",
        "            return self.predict(data.tensors[0])\n",
        "        else:\n",
        "            raise AttributeError(\"data must be an instance of DataLoader, Tensor or TensorDataset\")\n",
        "        \n",
        "\n",
        "    def accuracy(self, X, y=None):\n",
        "        if isinstance(X, torch.utils.data.DataLoader):\n",
        "            return (self.predict(X) == X.dataset.tensors[1].to(device)).float().sum().item() / len(X.dataset.tensors[1])\n",
        "        elif isinstance(X, torch.Tensor) and isinstance(y, torch.Tensor):\n",
        "            return (self.predict(X.to(device)) == y.to(device)).float().sum().item() / len(y)\n",
        "        else :\n",
        "            raise AttributeError(\"Must be called with X as a DataLoader or X and y some Tensor\")\n",
        "    \n",
        "    def f1_score(self, data_loader, label=1):\n",
        "        return f1_score((data_loader.dataset[:][1] == label).int().cpu().numpy(),\n",
        "                        (self.predict(data_loader) == label).int().cpu().numpy() )\n",
        "\n",
        "    def run_epoch(self, n_epochs, criterion, optimizer, train_loader,\n",
        "                  valid_loader=None, early_stop=True, patience=1 ):\n",
        "        start_time = time.time()\n",
        "        last_time = time.time()\n",
        "        if valid_loader:\n",
        "            best_score = -1\n",
        "            best_param = None\n",
        "            epochs_since_best_score = 0\n",
        "        for epoch in range(1, n_epochs+1):\n",
        "            print(\"Epoch: {}/{}\".format(epoch, n_epochs))\n",
        "            running_loss = 0\n",
        "            for i, (X_batch, y_batch) in enumerate(train_loader):\n",
        "                y_batch = y_batch.to(device)\n",
        "                torch.cuda.empty_cache()\n",
        "                optimizer.zero_grad()\n",
        "                out = self.forward(X_batch.to(device))\n",
        "                loss = criterion(out, y_batch)\n",
        "                loss.backward()\n",
        "                optimizer.step()\n",
        "                running_loss += loss.item()\n",
        "            train_score = self.f1_score(train_loader, label=0)\n",
        "            if valid_loader:\n",
        "                valid_score = self.f1_score(valid_loader, label=0)\n",
        "                print(\"loss: {:.6f}\\ttrain_f1: {:.4f}\\telapsed_time: {:.1f}s\\tvalid_f1: {:.4f}\".format(\n",
        "                    running_loss/len(train_loader.dataset), train_score, time.time()-start_time, valid_score))\n",
        "                if best_score > valid_score:\n",
        "                    epochs_since_best_score +=1\n",
        "                    if early_stop and epochs_since_best_score == patience:\n",
        "                        print(\"Early stopping. Resetting the parameters of the\\\n",
        "                        best score on the validation set.\")\n",
        "                        self.load_state_dict(best_param)\n",
        "                        return\n",
        "                else:\n",
        "                    best_score  = valid_score\n",
        "                    best_param = copy.deepcopy(self.state_dict())\n",
        "                    epochs_since_best_score = 0\n",
        "            else:\n",
        "                print(\"loss: {:.6f}\\ttrain_f1: {:.4f}\\telapsed_time: {:.1f}s\".format(\n",
        "                    running_loss/len(train_loader.dataset), train_score, time.time()-start_time))\n",
        "\n"
      ],
      "execution_count": 0,
      "outputs": []
    },
    {
      "cell_type": "code",
      "metadata": {
        "id": "KM20Y5YCc9WV",
        "colab_type": "code",
        "colab": {}
      },
      "source": [
        "model = 'GRU'\n",
        "emb_size = 16\n",
        "hidden_size = 64\n",
        "num_layers = 8\n",
        "output_size = 4\n",
        "bidirectional=True\n",
        "dropout = 0.5\n",
        "filename = '{}{}_emb{}_hid{}_lay{}_vocab{}.pt'.format('bi' if bidirectional else '', model, emb_size, hidden_size, num_layers, vocab_max )\n",
        "\n",
        "\n",
        "gru = GRU(emb_size = emb_size, hidden_size = hidden_size, vocab_size = vocab_max,\n",
        "          num_layers = num_layers, output_size = output_size, bidirectional=bidirectional, dropout=dropout)"
      ],
      "execution_count": 0,
      "outputs": []
    },
    {
      "cell_type": "code",
      "metadata": {
        "id": "I6CnMqxdc9Wf",
        "colab_type": "code",
        "colab": {}
      },
      "source": [
        "class_weight = compute_class_weight('balanced', np.unique(y_train.unique()), y_train.numpy())\n",
        "criterion = nn.CrossEntropyLoss(weight=torch.Tensor(class_weight).to(device))\n",
        "optimizer = torch.optim.Adam(gru.parameters(), weight_decay=10e-5)"
      ],
      "execution_count": 0,
      "outputs": []
    },
    {
      "cell_type": "code",
      "metadata": {
        "id": "5FrTNiWlOcCs",
        "colab_type": "code",
        "outputId": "74cdfcfb-5df2-4e9d-8651-9538e324a35d",
        "colab": {
          "base_uri": "https://localhost:8080/",
          "height": 364
        }
      },
      "source": [
        "gru.run_epoch(n_epochs=20, criterion=criterion, optimizer=optimizer, train_loader=train_loader, valid_loader=valid_loader, early_stop=True, patience=10)"
      ],
      "execution_count": 215,
      "outputs": [
        {
          "output_type": "stream",
          "text": [
            "Epoch: 1/10\n",
            "loss: 0.008614\ttrain_f1: 0.1110\telapsed_time: 115.1s\tvalid_f1: 0.1127\n",
            "Epoch: 2/10\n",
            "loss: 0.007272\ttrain_f1: 0.1586\telapsed_time: 229.9s\tvalid_f1: 0.1455\n",
            "Epoch: 3/10\n",
            "loss: 0.006768\ttrain_f1: 0.1852\telapsed_time: 345.2s\tvalid_f1: 0.1802\n",
            "Epoch: 4/10\n",
            "loss: 0.006417\ttrain_f1: 0.2478\telapsed_time: 460.4s\tvalid_f1: 0.2132\n",
            "Epoch: 5/10\n",
            "loss: 0.006030\ttrain_f1: 0.2346\telapsed_time: 575.4s\tvalid_f1: 0.2132\n",
            "Epoch: 6/10\n",
            "loss: 0.005637\ttrain_f1: 0.3147\telapsed_time: 690.4s\tvalid_f1: 0.2736\n",
            "Epoch: 7/10\n",
            "loss: 0.005260\ttrain_f1: 0.3701\telapsed_time: 805.2s\tvalid_f1: 0.3289\n",
            "Epoch: 8/10\n",
            "loss: 0.004936\ttrain_f1: 0.3909\telapsed_time: 920.0s\tvalid_f1: 0.3098\n",
            "Epoch: 9/10\n",
            "loss: 0.004647\ttrain_f1: 0.3986\telapsed_time: 1035.3s\tvalid_f1: 0.3014\n",
            "Epoch: 10/10\n",
            "loss: 0.004381\ttrain_f1: 0.4009\telapsed_time: 1150.4s\tvalid_f1: 0.2961\n"
          ],
          "name": "stdout"
        }
      ]
    },
    {
      "cell_type": "code",
      "metadata": {
        "id": "ggeD4ahXzqjQ",
        "colab_type": "code",
        "outputId": "ed05ac3e-47c8-4a4b-f6bd-d3a1a94ad44d",
        "colab": {
          "base_uri": "https://localhost:8080/",
          "height": 208
        }
      },
      "source": [
        "print(classification_report(y_test.cpu().numpy(), gru.predict(test_loader).cpu().numpy()))"
      ],
      "execution_count": 216,
      "outputs": [
        {
          "output_type": "stream",
          "text": [
            "              precision    recall  f1-score   support\n",
            "\n",
            "           0       0.19      0.67      0.30       654\n",
            "           1       0.94      0.75      0.84      5284\n",
            "           2       0.89      0.66      0.76      7386\n",
            "           3       0.38      0.75      0.51      1425\n",
            "\n",
            "    accuracy                           0.70     14749\n",
            "   macro avg       0.60      0.71      0.60     14749\n",
            "weighted avg       0.83      0.70      0.74     14749\n",
            "\n"
          ],
          "name": "stdout"
        }
      ]
    },
    {
      "cell_type": "code",
      "metadata": {
        "id": "n9drktIZeZDe",
        "colab_type": "code",
        "colab": {}
      },
      "source": [
        "y_true = y_test.cpu().numpy()\n",
        "y_pred = gru.predict(test_loader).cpu().numpy()"
      ],
      "execution_count": 0,
      "outputs": []
    },
    {
      "cell_type": "code",
      "metadata": {
        "id": "QLZTEp-ElJLO",
        "colab_type": "code",
        "colab": {}
      },
      "source": [
        "def plot_confusion_matrix(y_true, y_pred, classes,\n",
        "                          normalize=False,\n",
        "                          title=None,\n",
        "                          cmap=plt.cm.Blues):\n",
        "    \"\"\"\n",
        "    This function prints and plots the confusion matrix.\n",
        "    Normalization can be applied by setting `normalize=True`.\n",
        "    \"\"\"\n",
        "    if not title:\n",
        "        if normalize:\n",
        "            title = 'Normalized confusion matrix'\n",
        "        else:\n",
        "            title = 'Confusion matrix, without normalization'\n",
        "\n",
        "    # Compute confusion matrix\n",
        "    cm = confusion_matrix(y_true, y_pred)\n",
        "    # Only use the labels that appear in the data\n",
        "    if normalize:\n",
        "        cm = cm.astype('float') / cm.sum(axis=1)[:, np.newaxis]\n",
        "        print(\"Normalized confusion matrix\")\n",
        "    else:\n",
        "        print('Confusion matrix, without normalization')\n",
        "\n",
        "    print(cm)\n",
        "\n",
        "    fig, ax = plt.subplots(figsize=(10,10))\n",
        "    im = ax.imshow(cm, interpolation='nearest', cmap=cmap)\n",
        "    ax.figure.colorbar(im, ax=ax)\n",
        "    # We want to show all ticks...\n",
        "    ax.set(xticks=np.arange(cm.shape[1]),\n",
        "           yticks=[ 0,1,2,3, 3.5],\n",
        "           # ... and label them with the respective list entries\n",
        "           xticklabels=classes, yticklabels=classes,\n",
        "           ylabel='True label',\n",
        "           xlabel='Predicted label')\n",
        "    plt.title(title+'\\n\\n\\n')\n",
        "\n",
        "    # Rotate the tick labels and set their alignment.\n",
        "    plt.setp(ax.get_xticklabels(), rotation=45, ha=\"right\",\n",
        "             rotation_mode=\"anchor\")\n",
        "\n",
        "    # Loop over data dimensions and create text annotations.\n",
        "    fmt = '.2f' if normalize else 'd'\n",
        "    thresh = cm.max() / 2.\n",
        "    for i in range(cm.shape[0]):\n",
        "        for j in range(cm.shape[1]):\n",
        "            ax.text(j, i, format(cm[i, j], fmt),\n",
        "                    ha=\"center\", va=\"center\",\n",
        "                    color=\"white\" if cm[i, j] > thresh else \"black\")\n",
        "    fig.tight_layout()\n",
        "    return ax\n"
      ],
      "execution_count": 0,
      "outputs": []
    },
    {
      "cell_type": "code",
      "metadata": {
        "id": "-0p01wCFkTvL",
        "colab_type": "code",
        "colab": {
          "base_uri": "https://localhost:8080/",
          "height": 795
        },
        "outputId": "e7bccf26-68f3-497a-dca9-d0fd950fba70"
      },
      "source": [
        "plot_confusion_matrix(y_true, y_pred, ['Hateful', 'Offensive', 'Normal', 'Spam'])"
      ],
      "execution_count": 327,
      "outputs": [
        {
          "output_type": "stream",
          "text": [
            "Confusion matrix, without normalization\n",
            "[[ 438   94  106   16]\n",
            " [1098 3976  183   27]\n",
            " [ 662  119 4894 1711]\n",
            " [  22   17  322 1064]]\n"
          ],
          "name": "stdout"
        },
        {
          "output_type": "execute_result",
          "data": {
            "text/plain": [
              "<matplotlib.axes._subplots.AxesSubplot at 0x7f079791b7f0>"
            ]
          },
          "metadata": {
            "tags": []
          },
          "execution_count": 327
        },
        {
          "output_type": "display_data",
          "data": {
            "image/png": "[encoded data removed]",
            "text/plain": [
              "<Figure size 720x720 with 2 Axes>"
            ]
          },
          "metadata": {
            "tags": []
          }
        }
      ]
    },
    {
      "cell_type": "code",
      "metadata": {
        "id": "jjC7f3bnnSjY",
        "colab_type": "code",
        "colab": {}
      },
      "source": [
        ""
      ],
      "execution_count": 0,
      "outputs": []
    }
  ]
}