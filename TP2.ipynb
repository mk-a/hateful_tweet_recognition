{
 "cells": [
  {
   "cell_type": "code",
   "execution_count": 97,
   "metadata": {},
   "outputs": [],
   "source": [
    "from twython import Twython, TwythonError\n",
    "import pandas as pd\n",
    "import csv\n",
    "import math"
   ]
  },
  {
   "cell_type": "code",
   "execution_count": 3,
   "metadata": {},
   "outputs": [],
   "source": [
    "API_key = \"M3ptGiuDD8KoIldEFCAkImEGi\"\n",
    "\n",
    "API_secret_key = \"qvTDEypEKXOpzuFCpY9DrPu4OTItPgzOA6OXAbU0ToYz4P2X0E\""
   ]
  },
  {
   "cell_type": "code",
   "execution_count": 4,
   "metadata": {},
   "outputs": [],
   "source": [
    "twitter = Twython(API_key, API_secret_key)"
   ]
  },
  {
   "cell_type": "code",
   "execution_count": 113,
   "metadata": {},
   "outputs": [],
   "source": [
    "def hydrate_database(source, destination, twitter, n_tweets=100):\n",
    "    \"\"\" Takes a csv file of tweet_ids and assiociated labels, recover the tweet content using a Twython object\n",
    "        and writes it in the destination file in the csv format with columns : \n",
    "            tweet_id, label, tweet_content\n",
    "        If the tweet is retweeted, we recover the original tweet, since the retweeted version might have been truncated.\n",
    "    \"\"\"\n",
    "    \n",
    "    df = pd.read_csv(source)\n",
    "    labels = dict(zip(df[\"tweet_id\"].values, df[\"label\"].values))\n",
    "    destination = open(destination, \"w\")\n",
    "    destination.write(\"tweet_id\\tlabel\\ttweet_content\\n\")\n",
    "    entries = 0\n",
    "    retrieved = 0\n",
    "    for i in range( math.ceil( len(df)/n_tweets )):\n",
    "        imin = i * n_tweets\n",
    "        imax = min( len(df), (i+1) * n_tweets )\n",
    "        entries += imax-imin\n",
    "        print(\"Retrieved:\\t{:5d} /{:5d}\".format(retrieved, entries),end='\\r', flush=True)\n",
    "        try :\n",
    "            tweets = twitter.lookup_status(id=list(df[\"tweet_id\"].values[imin:imax]))\n",
    "        except TwythonError as e:\n",
    "            print(\"Error\", e.error_code)\n",
    "            continue\n",
    "        retrieved += len(tweets)\n",
    "        for tweet in tweets:\n",
    "            tweet_id = tweet[\"id\"]\n",
    "            if \"retweeted_status\" in tweet.keys():\n",
    "                tweet = tweet[\"retweeted_status\"]\n",
    "            destination.write(\"{}\\t{}\\t{}\\n\".format(tweet[\"id\"], labels[tweet_id], '\\\"'+repr(tweet[\"text\"])[1:-1].replace('\\t',' ')+'\\\"' ))\n",
    "\n",
    "    destination.close()"
   ]
  },
  {
   "cell_type": "code",
   "execution_count": 114,
   "metadata": {},
   "outputs": [
    {
     "name": "stdout",
     "output_type": "stream",
     "text": [
      "Retrieved:\t62669 /99799\r"
     ]
    }
   ],
   "source": [
    "hydrate_database(\"data/hatespeech_labels.csv\", \"data/test.csv\", twitter)"
   ]
  }
 ],
 "metadata": {
  "kernelspec": {
   "display_name": "Python 3",
   "language": "python",
   "name": "python3"
  },
  "language_info": {
   "codemirror_mode": {
    "name": "ipython",
    "version": 3
   },
   "file_extension": ".py",
   "mimetype": "text/x-python",
   "name": "python",
   "nbconvert_exporter": "python",
   "pygments_lexer": "ipython3",
   "version": "3.7.3"
  }
 },
 "nbformat": 4,
 "nbformat_minor": 2
}
