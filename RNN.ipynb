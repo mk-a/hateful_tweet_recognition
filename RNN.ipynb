{
 "cells": [
  {
   "cell_type": "code",
   "execution_count": 151,
   "metadata": {},
   "outputs": [],
   "source": [
    "import numpy as np\n",
    "import pandas as pd\n",
    "import re, string, nltk, torch\n",
    "from nltk.tokenize import word_tokenize\n",
    "import words_repeated_char\n",
    "from nltk.stem import WordNetLemmatizer\n",
    "from sklearn.preprocessing import LabelEncoder, OneHotEncoder\n",
    "from sklearn.model_selection import train_test_split\n",
    "from collections import Counter\n",
    "import matplotlib.pyplot as plt\n",
    "import torch.nn as nn"
   ]
  },
  {
   "cell_type": "code",
   "execution_count": 72,
   "metadata": {},
   "outputs": [],
   "source": [
    "if torch.cuda.is_available():\n",
    "    device = torch.device(\"cuda\")\n",
    "else:\n",
    "    device = torch.device(\"cpu\")"
   ]
  },
  {
   "cell_type": "code",
   "execution_count": 9,
   "metadata": {},
   "outputs": [],
   "source": [
    "def read_csv(file_path, delimiter = ' '):\n",
    "    \"\"\" We had some issues loading the data using pandas.read_csv, so we built our own loader.\n",
    "        Read a csv file, returns a pandas.Dataframe\n",
    "    \"\"\"\n",
    "    fp = open(file_path)\n",
    "    line = fp.readline()\n",
    "    data_dict = dict()\n",
    "    labels = line[:-1].split(delimiter)\n",
    "    line = fp.readline()\n",
    "    for label in labels:\n",
    "        data_dict[label] = []\n",
    "    while line:\n",
    "        for i, j in enumerate(line[:-1].split(delimiter)):\n",
    "            data_dict[labels[i]].append(j)\n",
    "        line = fp.readline()\n",
    "    return pd.DataFrame(data_dict)"
   ]
  },
  {
   "cell_type": "code",
   "execution_count": 10,
   "metadata": {},
   "outputs": [],
   "source": [
    "data = read_csv(\"data/hydrated/hateful_tweets_filtered.csv\", delimiter='\\t')"
   ]
  },
  {
   "cell_type": "code",
   "execution_count": 11,
   "metadata": {
    "scrolled": true
   },
   "outputs": [
    {
     "data": {
      "text/html": [
       "<div>\n",
       "<style scoped>\n",
       "    .dataframe tbody tr th:only-of-type {\n",
       "        vertical-align: middle;\n",
       "    }\n",
       "\n",
       "    .dataframe tbody tr th {\n",
       "        vertical-align: top;\n",
       "    }\n",
       "\n",
       "    .dataframe thead th {\n",
       "        text-align: right;\n",
       "    }\n",
       "</style>\n",
       "<table border=\"1\" class=\"dataframe\">\n",
       "  <thead>\n",
       "    <tr style=\"text-align: right;\">\n",
       "      <th></th>\n",
       "      <th>tweet_id</th>\n",
       "      <th>label</th>\n",
       "      <th>tweet_content</th>\n",
       "    </tr>\n",
       "  </thead>\n",
       "  <tbody>\n",
       "    <tr>\n",
       "      <td>0</td>\n",
       "      <td>7629505483</td>\n",
       "      <td>abusive</td>\n",
       "      <td>I fuckin hate when niggas stare at me fuck r u...</td>\n",
       "    </tr>\n",
       "    <tr>\n",
       "      <td>1</td>\n",
       "      <td>12181574836</td>\n",
       "      <td>abusive</td>\n",
       "      <td>everyone jumps to silly conclusions as soon as...</td>\n",
       "    </tr>\n",
       "    <tr>\n",
       "      <td>2</td>\n",
       "      <td>25381445793</td>\n",
       "      <td>abusive</td>\n",
       "      <td>#sincewerebeinghonest I'm Emo. I Need A Fuckin...</td>\n",
       "    </tr>\n",
       "    <tr>\n",
       "      <td>3</td>\n",
       "      <td>192730077165916160</td>\n",
       "      <td>abusive</td>\n",
       "      <td>banana bread recipe: 1. get some bread 2. i do...</td>\n",
       "    </tr>\n",
       "    <tr>\n",
       "      <td>4</td>\n",
       "      <td>280882735374028800</td>\n",
       "      <td>abusive</td>\n",
       "      <td>godamn this bitch so bad i want 2 drink molly ...</td>\n",
       "    </tr>\n",
       "  </tbody>\n",
       "</table>\n",
       "</div>"
      ],
      "text/plain": [
       "             tweet_id    label  \\\n",
       "0          7629505483  abusive   \n",
       "1         12181574836  abusive   \n",
       "2         25381445793  abusive   \n",
       "3  192730077165916160  abusive   \n",
       "4  280882735374028800  abusive   \n",
       "\n",
       "                                       tweet_content  \n",
       "0  I fuckin hate when niggas stare at me fuck r u...  \n",
       "1  everyone jumps to silly conclusions as soon as...  \n",
       "2  #sincewerebeinghonest I'm Emo. I Need A Fuckin...  \n",
       "3  banana bread recipe: 1. get some bread 2. i do...  \n",
       "4  godamn this bitch so bad i want 2 drink molly ...  "
      ]
     },
     "execution_count": 11,
     "metadata": {},
     "output_type": "execute_result"
    }
   ],
   "source": [
    "data.head()"
   ]
  },
  {
   "cell_type": "code",
   "execution_count": 76,
   "metadata": {
    "scrolled": false
   },
   "outputs": [],
   "source": [
    "lemmatizer = WordNetLemmatizer() \n",
    "preprocessed = []\n",
    "count_words = Counter()\n",
    "for i, tweet in enumerate(data[\"tweet_content\"].values[:]):\n",
    "    tmp = tweet.lower().replace(\"\\\\n\",' ').replace('\\\\xa0', ' ').replace('\\\\r', ' ').replace(\"\\\\'\",\"'\").replace(\"&lt;\",'<')\\\n",
    "         .replace(\"&gt;\",'>').replace(\" &amp; \", \" and \").replace(\"&amp;\", \"&\")\n",
    "    # lower the tweet and replacing characters that tweeter has tranlated to their hmtl numeric code to their original value\n",
    "    tmp = re.sub(\"(http(s)?://)?(www\\.)?([a-zA-Z0-9])+\\.[a-z]{1,3}(/\\S*)?\",'URL', tmp) # \n",
    "    tmp = re.sub(\"#\\w+\", 'HASHTAG', tmp)\n",
    "    tmp = re.sub(\"@\\w+\", 'USER', tmp)\n",
    "    tmp = re.sub(\"\\w+@\\w+\\.[a-z]{2,3}\", \"EMAIL\", tmp)\n",
    "    tmp = re.sub(\"[0-9]{1,2}/[0-9]{1,2}/([0-9]{4}|[0-9]{2})|([0-9]{4}|[0-9]{2})/[0-9]{1,2}/[0-9]{1,2}|[0-9]{2}/[0-9]{2}\", \"DATE\", tmp)\n",
    "    tmp = re.sub(\"[0-9]{2}(:[0-9]{2}){1,2}( ?(am|pm))?\", \"TIME\", tmp)\n",
    "    tmp = re.sub(\"(([\\U00002600-\\U000027BF])|([\\U0001f300-\\U0001f64F])|([\\U0001f680-\\U0001f6FF]))+\", ' EMOJI ', tmp)\n",
    "    tmp = tmp.encode(encoding='ascii', errors='ignore').decode()\n",
    "    # get rid of the non ascii characters\n",
    "    tmp = re.sub(\"\\.{2,}\", \"...\", tmp)\n",
    "    for c in ['!', '-', ',']:\n",
    "        tmp = re.sub(\"{}+\".format(c), c, tmp)\n",
    "    tmp = re.sub(\"\\?+\", \"?\", tmp)\n",
    "    tmp = re.sub(\"`+\", \"'\", tmp)\n",
    "    tmp = re.sub(\"'{2,}\", \"'\", tmp)\n",
    "    tmp = tmp.translate(str.maketrans(dict.fromkeys('#*+/<=>@[\\\\]^_`{|}~'))) #removing all the other special characters\n",
    "    tokens = [t if t not in [\"''\", \"``\"] else '\"' for t in word_tokenize(tmp) ]\n",
    "    # tokenizing using nltk.word_tokenize. althought it transforms '\"' into '``' or \"''\" and this is a behaviour do not want\n",
    "    # so we make sure that the '\"' are changed to their original form\n",
    "    vec = []\n",
    "    for i, token in enumerate(tokens):\n",
    "        if re.search(r\"([a-z])\\1{2,}\", token):\n",
    "            # cleaning the words containing a letter repeated 3 times or more, using the list of the Ensglish words\n",
    "            tokens[i] = words_repeated_char.clean(token)\n",
    "        tokens[i] = lemmatizer.lemmatize(tokens[i])\n",
    "        count_words[tokens[i]] += 1\n",
    "    preprocessed.append(tokens)"
   ]
  },
  {
   "cell_type": "code",
   "execution_count": 178,
   "metadata": {},
   "outputs": [],
   "source": [
    "vocab_max = 50000\n",
    "seq_length = 30\n",
    "vocab = {w for w,_ in count_words.most_common(vocab_max-2)}.union( {\"UNK\", \"PAD\"})\n",
    "word2val = {w : i+2 for i, (w,_) in enumerate( count_words.most_common(vocab_max-2) )}\n",
    "word2val[\"PAD\"] = 0\n",
    "word2val[\"UNK\"] = 1\n",
    "X = []\n",
    "for tweet in preprocessed:\n",
    "    tmp = [word2val[tok] if tok in vocab else word2val[\"UNK\"] for tok in tweet]\n",
    "    if len(tmp) > seq_length:\n",
    "        X.append(tmp[:seq_length])\n",
    "    else:\n",
    "        X.append([0 for _ in range(seq_length - len(tmp))] + tmp)\n",
    "X = np.array(X)"
   ]
  },
  {
   "cell_type": "code",
   "execution_count": 179,
   "metadata": {},
   "outputs": [],
   "source": [
    "le = LabelEncoder()\n",
    "y = le.fit_transform(data[\"label\"].values)"
   ]
  },
  {
   "cell_type": "code",
   "execution_count": 51,
   "metadata": {},
   "outputs": [
    {
     "data": {
      "text/plain": [
       "Text(0.5, 1.0, 'Sequence length distribution')"
      ]
     },
     "execution_count": 51,
     "metadata": {},
     "output_type": "execute_result"
    },
    {
     "data": {
      "image/png": "[encoded data removed]",
      "text/plain": [
       "<Figure size 432x288 with 1 Axes>"
      ]
     },
     "metadata": {
      "needs_background": "light"
     },
     "output_type": "display_data"
    }
   ],
   "source": [
    "plt.hist([len(x) for x in X])\n",
    "plt.title(\"Sequence length distribution\")"
   ]
  },
  {
   "cell_type": "code",
   "execution_count": 181,
   "metadata": {},
   "outputs": [],
   "source": [
    " X_train, X_valid, y_train, y_valid = train_test_split(X, y, test_size=0.33, random_state=42)\n",
    "X_valid, X_test, y_valid, y_test = train_test_split(X_valid, y_valid, test_size=0.5, random_state=42)\n",
    "X_train = torch.tensor(X_train).to(device)\n",
    "X_valid = torch.tensor(X_valid).to(device)\n",
    "X_test = torch.tensor(X_test).to(device)\n",
    "y_train = torch.tensor(y_train).to(device)\n",
    "y_valid = torch.tensor(y_valid).to(device)\n",
    "y_test = torch.tensor(y_test).to(device)"
   ]
  },
  {
   "cell_type": "code",
   "execution_count": 160,
   "metadata": {},
   "outputs": [],
   "source": [
    "class RNN(nn.Module):\n",
    "    def __init__(self,\n",
    "                 emb_size,\n",
    "                 hidden_size,\n",
    "                 vocab_size,\n",
    "                 n_layers,\n",
    "                 output_size,\n",
    "                 p_dropout\n",
    "                ):\n",
    "        super(RNN, self).__init__()\n",
    "        #hyper-parameters\n",
    "        self.emb_size    = emb_size\n",
    "        self.hidden_size = hidden_size\n",
    "        self.vocab_size  = vocab_size\n",
    "        self.n_layers    = n_layers\n",
    "        self.emb_size    = emb_size\n",
    "        self.output_size = output_size\n",
    "        #layers\n",
    "        self.embedding = nn.Embedding(vocab_size, emb_size).to(device)\n",
    "        self.layers = dict()\n",
    "        self.layers[\"do0\"] = nn.Dropout(p=p_dropout)\n",
    "        self.layers[\"h1\"] = nn.Linear(emb_size+hidden_size, hidden_size).to(device)\n",
    "        self.layers[\"do1\"] = nn.Dropout(p=p_dropout)\n",
    "        for layer in range(2, n_layers+1):\n",
    "            self.layers[f\"h{layer}\"] = nn.Linear(2*hidden_size, hidden_size).to(device)\n",
    "            self.layers[f\"do{layer}\"] = nn.Dropout(p=p_dropout)\n",
    "        self.output_layer = nn.Linear(hidden_size, output_size)\n",
    "        #init weights\n",
    "        self.init_weight()\n",
    "        \n",
    "    def init_weight(self):\n",
    "        nn.init.xavier_normal_(self.output_layer.weight)\n",
    "        for layer in range(2, self.n_layers+1):\n",
    "            nn.init.xavier_normal_(self.layers[f\"h{layer}\"].weight)\n",
    "    def forward(self, X):\n",
    "        out = self.embedding(X)\n",
    "        out = self.layers[\"do0\"](out)\n",
    "#         for layer in range(1, self.n_layers+1):\n",
    "#             out = self.layers[f\"h{layer}\"](out)\n",
    "#             out = self.layers[f\"do{layer}\"](out)\n",
    "        "
   ]
  },
  {
   "cell_type": "code",
   "execution_count": 162,
   "metadata": {},
   "outputs": [],
   "source": [
    "a = RNN(1000, 1000, vocab_size, 2, 4, 0.5)"
   ]
  },
  {
   "cell_type": "code",
   "execution_count": 182,
   "metadata": {},
   "outputs": [
    {
     "name": "stdout",
     "output_type": "stream",
     "text": [
      "torch.Size([10, 30])\n",
      "torch.Size([10, 30, 1000])\n"
     ]
    }
   ],
   "source": [
    "a.forward(X_train[:10])"
   ]
  },
  {
   "cell_type": "code",
   "execution_count": null,
   "metadata": {},
   "outputs": [],
   "source": []
  }
 ],
 "metadata": {
  "kernelspec": {
   "display_name": "Python 3",
   "language": "python",
   "name": "python3"
  },
  "language_info": {
   "codemirror_mode": {
    "name": "ipython",
    "version": 3
   },
   "file_extension": ".py",
   "mimetype": "text/x-python",
   "name": "python",
   "nbconvert_exporter": "python",
   "pygments_lexer": "ipython3",
   "version": "3.7.4"
  }
 },
 "nbformat": 4,
 "nbformat_minor": 2
}
