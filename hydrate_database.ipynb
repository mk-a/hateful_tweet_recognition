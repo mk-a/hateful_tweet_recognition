{
 "cells": [
  {
   "cell_type": "code",
   "execution_count": 2,
   "metadata": {},
   "outputs": [],
   "source": [
    "from twython import Twython, TwythonError\n",
    "import pandas as pd\n",
    "import csv\n",
    "import math"
   ]
  },
  {
   "cell_type": "code",
   "execution_count": 4,
   "metadata": {},
   "outputs": [],
   "source": [
    "API_key = \"M3ptGiuDD8KoIldEFCAkImEGi\"\n",
    "\n",
    "API_secret_key = \"qvTDEypEKXOpzuFCpY9DrPu4OTItPgzOA6OXAbU0ToYz4P2X0E\""
   ]
  },
  {
   "cell_type": "code",
   "execution_count": 5,
   "metadata": {},
   "outputs": [],
   "source": [
    "twitter = Twython(API_key, API_secret_key)"
   ]
  },
  {
   "cell_type": "markdown",
   "metadata": {},
   "source": [
    "# Question 1 :\n",
    "#### Afficher la date, le nom d'utilisateur et le contenu du tweet ayant l'ID : 1157345692517634049 (0.5 Pts)"
   ]
  },
  {
   "cell_type": "code",
   "execution_count": 7,
   "metadata": {},
   "outputs": [],
   "source": [
    "test_id = \"1157345692517634049\""
   ]
  },
  {
   "cell_type": "code",
   "execution_count": 17,
   "metadata": {},
   "outputs": [
    {
     "name": "stdout",
     "output_type": "stream",
     "text": [
      "Date :\t\tFri Aug 02 17:41:30 +0000 2019\n",
      "User :\t\tDonald J. Trump\n",
      "Content :\tA$AP Rocky released from prison and on his way home to the United States from Sweden. It was a Rocky Week, get home ASAP A$AP!\n"
     ]
    }
   ],
   "source": [
    "tweet = twitter.show_status(id=test_id)\n",
    "print(\"Date :\\t\\t{}\\nUser :\\t\\t{}\\nContent :\\t{}\".format(tweet[\"created_at\"], tweet[\"user\"][\"name\"], tweet[\"text\"]))"
   ]
  },
  {
   "cell_type": "markdown",
   "metadata": {},
   "source": [
    "# Question 2 :\n",
    "#### Implémenter la fonction `hydrate_database` (3.5 Pts)\n",
    "\n",
    "*Attention : Il faut également gérer le cas où la feature demandée n'est pas une clé du dictionnaire mais une \"sous-clé\", comme c'est le cas pour le nom d'utilisateur par exemple (accessible dans la feature *user*, qui lui même est un dictionnaire). Un moyen simple pour pallier à ce problème consiste à considérer la feature comme une liste, qui contiendrait la clé et les sous-clés si il y a lieu (voir exemple plus bas)\n",
    "\n",
    "*Indice : La fonction `sleep` du module time permet de patienter le temps nécessaire*"
   ]
  },
  {
   "cell_type": "code",
   "execution_count": 113,
   "metadata": {},
   "outputs": [],
   "source": [
    "def hydrate_database(source, destination, twitter, n_tweets=100):\n",
    "    \"\"\" Takes a csv file of tweet_ids and assiociated labels, recover the tweet content using a Twython object\n",
    "        and writes it in the destination file in the csv format with columns : \n",
    "            tweet_id, label, tweet_content\n",
    "        If the tweet is retweeted, we recover the original tweet, since the retweeted version might have been truncated.\n",
    "    \"\"\"\n",
    "    \n",
    "    df = pd.read_csv(source)\n",
    "    labels = dict(zip(df[\"tweet_id\"].values, df[\"label\"].values))\n",
    "    destination = open(destination, \"w\")\n",
    "    destination.write(\"tweet_id\\tlabel\\ttweet_content\\n\")\n",
    "    entries = 0\n",
    "    retrieved = 0\n",
    "    for i in range( math.ceil( len(df)/n_tweets )):\n",
    "        imin = i * n_tweets\n",
    "        imax = min( len(df), (i+1) * n_tweets )\n",
    "        entries += imax-imin\n",
    "        print(\"Retrieved:\\t{:5d} /{:5d}\".format(retrieved, entries),end='\\r', flush=True)\n",
    "        try :\n",
    "            tweets = twitter.lookup_status(id=list(df[\"tweet_id\"].values[imin:imax]))\n",
    "        except TwythonError as e:\n",
    "            print(\"Error\", e.error_code)\n",
    "            continue\n",
    "        retrieved += len(tweets)\n",
    "        for tweet in tweets:\n",
    "            tweet_id = tweet[\"id\"]\n",
    "            if \"retweeted_status\" in tweet.keys():\n",
    "                tweet = tweet[\"retweeted_status\"]\n",
    "            destination.write(\"{}\\t{}\\t{}\\n\".format(tweet[\"id\"], labels[tweet_id], '\\\"'+repr(tweet[\"text\"])[1:-1].replace('\\t',' ')+'\\\"' ))\n",
    "\n",
    "    destination.close()"
   ]
  },
  {
   "cell_type": "code",
   "execution_count": 114,
   "metadata": {},
   "outputs": [
    {
     "name": "stdout",
     "output_type": "stream",
     "text": [
      "Retrieved:\t62669 /99799\r"
     ]
    }
   ],
   "source": [
    "hydrate_database(\"data/hatespeech_labels.csv\", \"data/test.csv\", twitter)"
   ]
  }
 ],
 "metadata": {
  "kernelspec": {
   "display_name": "Python 3",
   "language": "python",
   "name": "python3"
  },
  "language_info": {
   "codemirror_mode": {
    "name": "ipython",
    "version": 3
   },
   "file_extension": ".py",
   "mimetype": "text/x-python",
   "name": "python",
   "nbconvert_exporter": "python",
   "pygments_lexer": "ipython3",
   "version": "3.7.3"
  }
 },
 "nbformat": 4,
 "nbformat_minor": 2
}
